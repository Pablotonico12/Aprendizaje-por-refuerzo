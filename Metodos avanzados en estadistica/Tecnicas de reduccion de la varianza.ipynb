{
  "cells": [
    {
      "cell_type": "markdown",
      "metadata": {
        "id": "o6-zA4pp4rWj"
      },
      "source": [
        "<center> <h1>Métodos Avanzados de Estadística 2023-24</h1> </center>\n",
        "\n",
        "<center> <h2>Técnicas de reducción de la varianza</h2> </center>\n",
        "\n",
        "<center> <h5>Pablo Aguilera Onieva</h5> </center>"
      ]
    },
    {
      "cell_type": "markdown",
      "metadata": {
        "id": "DiMvFsKq4rWk"
      },
      "source": [
        "**IMPORTANTE**: *El presente documento está conformado por extractos de los trabajos individuales que ha hecho cada componente del equipo y ha sido ajustado para no superar el máximo de 20 páginas especificado en el enunciado de la práctica. Las versiones completas se encuentran en los demás cuadernos de Jupyter existentes en el directorio principal con los nombres de cada autor.*\n",
        "\n",
        "---"
      ]
    },
    {
      "cell_type": "markdown",
      "metadata": {
        "id": "yY05YQ6E4rWk"
      },
      "source": [
        "# Introducción\n",
        "\n",
        "La reducción de la varianza desempeña un papel fundamental para asegurar la consistencia de las estimaciones estadísticas.\n",
        "\n",
        "La reducción de la varianza es una técnica, especialmente empleada en el ámbito de los métodos de Monte Carlo, para aumentar la precisión de las estimaciones obtenidas en una simulación. Cada variable aleatoria de interés obtenida como salida de la simulación está asociada a una varianza que limita la precisión de los resultados. Gracias a las técnicas de reducción de la varianza se consigue que una simulación sea estadísticamente eficiente, o lo que es lo mismo, que tenga una buena precisión e intervalos de confianza lo suficientemente pequeños para la variable aleatoria de interés.\n",
        "\n",
        "Este documento se propone explorar algunas técnicas de reducción de varianza, centrándose específicamente en su aplicación en el contexto de estimadores estadísticos. El objetivo es proporcionar una visión detallada de estrategias diseñadas para mitigar la variabilidad inherente a los modelos, examinando cómo estas técnicas afectan directamente a la precisión y la robustez de los estimadores.\n",
        "\n",
        "En el primer apartado, se examinará el uso de variables de control. Estas variables, cuando se seleccionan cuidadosamente, buscan minimizar la variabilidad al actuar como factores compensatorios en el proceso de estimación. Se explorará cómo la inclusión estratégica de variables de control puede transformar la gestión de factores de confusión, mejorando la validez de los resultados y proporcionando una perspectiva más clara en la inferencia estadística.\n",
        "\n",
        "En el segundo apartado, se abordará el empleo de variables antitéticas. La inclusión de variables opuestas en el proceso de muestreo se presenta como una herramienta para contrarrestar la variabilidad, buscando obtener estimaciones más estables y fiables. Se analizará en detalle cómo esta técnica puede ser beneficiosa, especialmente en el contexto de modelos estadísticos avanzados.\n",
        "\n",
        "El tercer apartado se centrará en el muestreo estratificado, una táctica que busca mejorar la precisión de los estimadores al dividir la población en estratos lo más homogéneos posible. Se explorará cómo esta metodología, al considerar las diferencias entre subgrupos dentro de una misma población, puede llevar a estimaciones más precisas y representativas.\n",
        "\n",
        "Este documento tiene como propósito ser una guía práctica y accesible, desglosando conceptos complejos en estrategias aplicables. Al explorar las técnicas de reducción de varianza en el ámbito de los estimadores estadísticos, se busca desentrañar las complejidades del análisis estadístico y proporcionar herramientas concretas para mejorar la calidad y fiabilidad de las inferencias, abordando así los desafíos inherentes al empleo de métodos avanzados en Estadística.\n",
        "\n",
        "Para cada una de las técnicas presentadas, se incluirá una breve introducción al método, así como código de ejemplo con una implementación de éste sobre un conjunto de datos. Finalmente, se incluirá una sección con referencias bibliográficas y enlaces a recursos online que se han empleado como fuente para la elaboración de este documento.\n",
        "\n",
        "---"
      ]
    },
    {
      "cell_type": "markdown",
      "metadata": {
        "id": "AMHmjLZq4rWl"
      },
      "source": [
        "# Variables de control"
      ]
    },
    {
      "cell_type": "code",
      "execution_count": null,
      "metadata": {
        "id": "PV2UPlEj558B",
        "vscode": {
          "languageId": "r"
        }
      },
      "outputs": [],
      "source": [
        "library(\"dplyr\")\n",
        "library(\"ggplot2\")\n",
        "library(\"DescTools\")\n",
        "library(\"SamplingUtil\")\n",
        "set.seed(225)"
      ]
    },
    {
      "cell_type": "markdown",
      "metadata": {
        "id": "xUGkayLi6hzK"
      },
      "source": [
        "Esta técnica es aplicada en los métodos de Monte Carlo para reducir la varianza y mejorar la precisión del parámetro a estimar, basándose en aprovecha la información relacionada con los errores en las estimaciones de cantidades conocidas para disminuir el error en la estimación de cantidades desconocidas. Una característica distintiva de las variables de control es su capacidad para garantizar que la variación siempre sea reducida (o igualada), pero nunca aumentada.\n",
        "\n",
        "Aunque es más compleja que la técnica de variables antitéticas, las variables de control se destacan por su eficacia, la cual busca aprovechar tanto las covarianzas positivas como las negativas entre dos variables. La estrategia consiste en el uso de una variable $Y$ con el valor del parámetro a estimar conocido para controlar la variable $X$, cuyo valor del parámetro a estimar es desconocida. La clave está en lograr una correlación entre ambas variables, lo que permite controlar de manera efectiva la variabilidad de la estimación de la cantidad desconocida. Entre más correlación exista entre las variables $X$ e $Y$, mayor será la reducción de la varianza.\n",
        "\n",
        "\n",
        "## Demostración matemática:\n",
        "\n",
        "Por medio de una simulación vamos a estimar la media emperica $\\theta = E[X]$, donde $X$ es la salida de la simulación.\n",
        "Luego se explora otra salida de la simulación, la cual se conocemos su valor y la denominaremos $Y$.\n",
        "\n",
        "Utilizaremos ambas salidas, una que no se conoce $\\theta$ y otra que si se conoce $E[Y]= \\mu$ y combinamos estas dos variables de la siguiente manera, siendo $Z$ la versión \"controlada\" de $X$:\n",
        "\n",
        "$$Z = X + c(Y- \\mu)$$\n",
        "\n",
        "de modo que, en el caso de que el valor de $(Y-\\mu)$ sea 0, la esperanza de $Z$ sea igual a la esperanza de $X$ ($E[Z]=E[X]$).\n",
        "La idea es \"diseñar\" el parámetro $c$, de modo que la varianza de $Z$ sea menor que la varianza de $X$ y estimar ahora el valor de $\\theta$ en función de $Z$, ya que tienen la misma media.\n",
        "\n",
        "Entonces, la varianza de $Z$ es:\n",
        "\n",
        "$$Var(Z)=Var(X+cY)=Var(X) + c^{2}Var(Y)+2cCov(X,Y)$$\n",
        "\n",
        "donde finalmente debemos encontrar un valor de $c$ tal que la $Var(Z)$ sea la menor posible, es decir que sea un mínimo. Para encontrar el mínimo en un polinomio en $c$ de grado dos, debemos derivar en función de $c$ e igualar a cero:\n",
        "\n",
        "\n",
        "- Primera derivada:\n",
        "\n",
        "$$2c Var(Y) + 2Cov(X,Y)$$\n",
        "\n",
        "- Igualar a cero y despejar c:\n",
        "$$c^{*}=-\\frac{Cov(X,Y)}{Var(Y)}$$\n",
        "\n",
        "Sea $c^{*}$ el valor que hace que la Var(Z) sea la más pequeña.  \n",
        "\n",
        "Para confirmar que efectivamente encontramos un mínimo, se calcula la segunda derivada:\n",
        "\n",
        "- Segunda derivada:\n",
        "\n",
        "$$2 Var(Y)>0$$\n",
        "\n",
        "Como $2 Var(Y)$ es un valor positivo, se demuestra que es una parábola convexa, confirmado que es un mínimo.  \n",
        "\n",
        "\n",
        "Ahora usaremos $Z^{*}$, que es igual que $Z$ pero reemplazando el $c$ por el $c^{*}$:\n",
        "\n",
        "$$Z^{*}=X-\\frac{Cov(X,Y)}{Var(Y)}(Y-\\mu)$$\n",
        "\n",
        "Si calculamos la varianza de $Z^{*}$:\n",
        "\n",
        "$$Var(Z^{*})=Var(X) - \\frac{Cov(X,Y)^{2}}{Var(Y)}\\leq Var(X)$$\n",
        "\n",
        "podemos ver que la varianza de $Z^{*}$ es la varianza de $X$ menos un valor **positivo**, por tanto, podemos demostrar que la varianza de $Z^{*}$ es menor o igual que la varianza de $X$. *(Las varianzas serán iguales cuando las variables $X$ e $Y$ sean independientes).*\n",
        "\n",
        "Otra manera de expresar la varianza de $Z^{*}$ es: $Var(Z^{*})=Var(X)(1-\\rho^{2}_{X,Y})$, donde $\\rho^{2}_{X,Y}$ es el coeficiente de correlación entre $X$ e $Y$. Mientras mayor sea el valor de $|\\rho^{2}_{X,Y}|$ mayor será la reducción de la varianza, suponiendo una reducción del $100\\rho^{2}_{X,Y}\\%$.\n",
        "\n",
        "En la práctica, los valores de $Cov(X,Y)$ y $Var(Y)$ suelen ser desconocidos. Por lo tanto, como es común en estos casos, utilizaremos la muestra generada para calcular estos valores mediante simulación. Así, obtendremos $\\widehat{Cov}(X,Y)$ y $\\widehat{Var}(Y)$:\n",
        "\n",
        "$$\\widehat{Cov}(X,Y)=\\frac{1}{n-1}\\sum_{r=1}^{R}(X_{r}-\\bar{X})(Y_{r}-\\bar{Y})$$\n",
        "\n",
        "$$\\widehat{Var}(Y)=\\frac{1}{n-1}\\sum_{r=1}^{R}(Y_{r}-\\bar{Y})^{2}$$\n",
        "\n",
        "El problema con $\\widehat{Cov}(X,Y)$ y $\\widehat{Var}(Y)$ es que son complicadas de calcular. Para resolver esto, se puede estimar el valor de $c^{*}$ realizando un ajuste lineal de $X$ sobre $Y$, el cual se basa en el uso de la Regresión Lineal y los estimadores de mínimos cuadrados de $a$ y $b$:\n",
        "\n",
        "- Regresión lineal:\n",
        "$$X=aY+b+\\epsilon \\qquad \\epsilon \\sim N(0,\\sigma^{2})$$\n",
        "\n",
        "- Estimador de $a$:\n",
        "$$\\hat{a} = \\frac{\\sum_{r=1}^{R}(X_{r}-\\bar{X})(Y_{r}-\\bar{Y})}{\\sum_{r=1}^{R}(Y_{r}-\\bar{Y})^{2}}$$\n",
        "\n",
        "- Estimador de $b$:\n",
        "$$\\hat{b}= \\bar{X}-\\hat{a}\\bar{Y}$$\n",
        "\n",
        "Se puede observar que $c^{*}=-\\hat{a}$, por lo que podemos decir que la técnica de variables de control tiene relación con la regresión lineal. Además si reemplazamos $Y$ por $\\mu$ (que es el valor esperado) en el modelo y calculamos la expresión de $\\hat{b}+\\hat{a}\\mu$ se puede observar que obtenemos $\\hat\\theta$:\n",
        "\n",
        "\\begin{eqnarray}\n",
        "\\hat{b}+\\hat{a}\\mu =& \\bar{X}-\\hat{a}\\bar{Y}+\\hat{a}\\mu\\\\\n",
        "                   =& \\bar{X}-\\hat{a}(\\bar{Y}-\\mu)\\\\\n",
        "                   =& \\bar{X}+ c^{*}(\\bar{Y}-\\mu)\\\\\n",
        "                   =& \\hat\\theta\n",
        "\\end{eqnarray}\n",
        "\n",
        "\n",
        "En resumen, la estimación de la variable de control que estamos buscando $\\hat\\theta$, se puede obtener utilizando el modelo lineal que hemos estimado evaluando en $\\mu$. Por tanto, el procedimiento es realmente sencillo:\n",
        "1. Ejecutar una simulación para obetner las muestras de X e Y.\n",
        "2. Calcular la regresión lineal y obtener la estimación $\\hat{a}$ y $\\hat{b}$ del coeficiente y la intersección del modelo lineal.\n",
        "3. Calcular la cantidad $\\hat{b}+\\hat{a}\\mu$ para obtener la estimación $\\hat\\theta$."
      ]
    },
    {
      "cell_type": "markdown",
      "metadata": {
        "id": "AfM8tkbe9Fwe"
      },
      "source": [
        "## Demostración experimental"
      ]
    },
    {
      "cell_type": "markdown",
      "metadata": {
        "id": "BGC-mM7i9HG3"
      },
      "source": [
        "### Utilizando Regresión lineal\n",
        "\n",
        "Vamos a calcular $I = \\int_{0}^{1} e^{x}dx$ con el método de la regresión lineal, es decir, calcularemos el $\\hat{a}$ y $\\hat{b}$ para obtener el valor de la estimación.\n",
        "\n",
        "Tenemos los siguientes datos teóricos:\n",
        "\n",
        "  - $X=e^{U} \\rightarrow$ Función a integrar\n",
        "\n",
        "  - $Y=U\\rightarrow$ Variable de control\n",
        "\n",
        "  - $E[Y]=1/2$\n",
        "\n",
        "  - $Var(Y)=1/12$\n",
        "\n",
        "  - $Cov(X,Y)=(3-e)/2 \\approx 0.14$\n",
        "\n",
        "  - $c^{*}=-\\frac{Cov(X,Y)}{Var(Y)} = -6(3-e) \\approx -1.69$\n",
        "\n",
        "\n",
        "Ahora, por medio de simulaciones comprobaremos el valores estimados de $c^{*}$ y calcularemos la estimación de la integral y su varianza:\n"
      ]
    },
    {
      "cell_type": "markdown",
      "metadata": {
        "id": "L6wBy6TaywJB"
      },
      "source": [
        "#### Simulación de una función exponencial\n",
        "\n"
      ]
    },
    {
      "cell_type": "markdown",
      "metadata": {
        "id": "bD_MsOQt4rWn"
      },
      "source": [
        "Generaremos una simulación de una función exponencial de números aleatorios de distribución uniforme en un intervalo [0,1]. Luego calcularemos la media para obtener el valor espero de la estimación y su varianza:"
      ]
    },
    {
      "cell_type": "code",
      "execution_count": null,
      "metadata": {
        "id": "88kUXozhlNsA",
        "vscode": {
          "languageId": "r"
        }
      },
      "outputs": [],
      "source": [
        "# Número de simulaciones\n",
        "R <- 5000\n",
        "\n",
        "# Función a integrar\n",
        "f <- function(x) exp(x)"
      ]
    },
    {
      "cell_type": "code",
      "execution_count": null,
      "metadata": {
        "vscode": {
          "languageId": "r"
        },
        "id": "Lv1EKyWX4rWn"
      },
      "outputs": [],
      "source": [
        "# Simulación\n",
        "simulaciones <- replicate(R, {\n",
        "  # Generar números aleatorios uniformes en el intervalo [0, 1]\n",
        "  x <- runif(1, 0, 1)\n",
        "  # Evaluar la función\n",
        "  f(x)\n",
        "})"
      ]
    },
    {
      "cell_type": "code",
      "execution_count": null,
      "metadata": {
        "vscode": {
          "languageId": "r"
        },
        "id": "dAIZWbcC4rWn"
      },
      "outputs": [],
      "source": [
        "# Calcular media y varianza\n",
        "media <- mean(simulaciones)\n",
        "varianza <- var(simulaciones)"
      ]
    },
    {
      "cell_type": "code",
      "execution_count": null,
      "metadata": {
        "vscode": {
          "languageId": "r"
        },
        "id": "a8xregpE4rWn",
        "outputId": "f7f9332e-c89a-4911-ed0e-030d90b854aa"
      },
      "outputs": [
        {
          "name": "stdout",
          "output_type": "stream",
          "text": [
            "Estimación de la integral: 1.729921 \n",
            "Varianza de las estimaciones: 0.2437059"
          ]
        }
      ],
      "source": [
        "# Resultados\n",
        "cat(\"Estimación de la integral:\", media, \"\\n\")\n",
        "cat(\"Varianza de las estimaciones:\", varianza)"
      ]
    },
    {
      "cell_type": "markdown",
      "metadata": {
        "id": "4iu3p_uM03yB"
      },
      "source": [
        "#### Simulación con Variable de control - Regresion lineal"
      ]
    },
    {
      "cell_type": "markdown",
      "metadata": {
        "id": "6O1g1AM94rWp"
      },
      "source": [
        "A continuación, realizaremos dos simulaciones utilizando la técnica de variables de control con el objetivo de reducir la varianza obtenida en el apartado anterior. Para lograr este objetivo, emplearemos dos enfoques diferentes. En el primero usaremos el modelo de regresión lineal (lm) y sus coeficientes, y en el segundo calcularemos analíticamente $\\hat{a}$, $\\hat{b}$ y $\\hat{\\theta}$:"
      ]
    },
    {
      "cell_type": "code",
      "execution_count": null,
      "metadata": {
        "id": "LZe28tKdxkaM",
        "vscode": {
          "languageId": "r"
        }
      },
      "outputs": [],
      "source": [
        "# Estimación - Modelo lm\n",
        "# Número de simulaciones\n",
        "R <- 5000"
      ]
    },
    {
      "cell_type": "code",
      "execution_count": null,
      "metadata": {
        "vscode": {
          "languageId": "r"
        },
        "id": "C3MOkVKx4rWp"
      },
      "outputs": [],
      "source": [
        "# Simulación\n",
        "theta_hat_valores <- replicate(R, {\n",
        "  # Generar valores de U\n",
        "  U <- runif(R, 0, 1)\n",
        "  # Definir variables\n",
        "  X <- exp(U)\n",
        "  Y <- U\n",
        "\n",
        "  # Regresión lineal para estimar a_hat y b_hat\n",
        "  lm_model <- lm(X ~ Y)\n",
        "  a_hat <- coef(lm_model)[2]\n",
        "  b_hat <- coef(lm_model)[1]\n",
        "\n",
        "  # Cálculo de la media de U\n",
        "  mu <- mean(U)\n",
        "\n",
        "  # Cálculo de theta_hat\n",
        "  theta_hat <- b_hat + a_hat * mu\n",
        "\n",
        "  # Devolver theta_hat, a y b\n",
        "  c(theta_hat, a_hat, b_hat)\n",
        "})"
      ]
    },
    {
      "cell_type": "code",
      "execution_count": null,
      "metadata": {
        "vscode": {
          "languageId": "r"
        },
        "id": "9PvZbqPQ4rWp"
      },
      "outputs": [],
      "source": [
        "# Extraer los resultados\n",
        "theta_hat_valores <- matrix(theta_hat_valores, ncol = 3, byrow = TRUE)\n",
        "# Varianza de theta_hat\n",
        "var_theta_hat <- var(theta_hat_valores[, 1])"
      ]
    },
    {
      "cell_type": "code",
      "execution_count": null,
      "metadata": {
        "vscode": {
          "languageId": "r"
        },
        "id": "L-e4Ez954rWq",
        "outputId": "ec8b8891-a137-4628-d384-ee25e24132c4"
      },
      "outputs": [
        {
          "name": "stdout",
          "output_type": "stream",
          "text": [
            "a_hat: 1.690234 \n",
            "b_hat: 0.8731647 \n",
            "Estimación de theta_hat: 1.71824 \n",
            "Varianza de theta_hat: 4.678984e-05"
          ]
        }
      ],
      "source": [
        "# Resultados\n",
        "cat(\"a_hat:\", mean(theta_hat_valores[, 2]), \"\\n\")\n",
        "cat(\"b_hat:\", mean(theta_hat_valores[, 3]), \"\\n\")\n",
        "cat(\"Estimación de theta_hat:\", mean(theta_hat_valores[, 1]), \"\\n\")\n",
        "cat(\"Varianza de theta_hat:\", var_theta_hat)"
      ]
    },
    {
      "cell_type": "code",
      "execution_count": null,
      "metadata": {
        "id": "FvmaBC2eqIam",
        "vscode": {
          "languageId": "r"
        }
      },
      "outputs": [],
      "source": [
        "# Estimación - Forma analítica\n",
        "# Número de simulaciones\n",
        "R <- 5000"
      ]
    },
    {
      "cell_type": "code",
      "execution_count": null,
      "metadata": {
        "vscode": {
          "languageId": "r"
        },
        "id": "z3DI0q2r4rWq"
      },
      "outputs": [],
      "source": [
        "# Simulación\n",
        "theta_hat_values <- replicate(R, {\n",
        "  # Valores de U\n",
        "  U <- runif(R, 0, 1)\n",
        "  # Definir variables\n",
        "  X <- exp(U)\n",
        "  Y <- U\n",
        "\n",
        "  # Calcular medias\n",
        "  mean_U <- mean(U)\n",
        "  mean_X <- mean(X)\n",
        "  mean_Y <- mean(Y)\n",
        "  # Calcular a_hat y b_hat\n",
        "  a <- sum((X - mean_X) * (Y - mean_Y)) / sum((Y - mean_Y)^2)\n",
        "  b <- mean_X - a * mean_Y\n",
        "\n",
        "  # Calcular theta_hat\n",
        "  theta_hat <- b + a * mean_U\n",
        "\n",
        "  # Devolver theta_hat, a_hat y b_hat\n",
        "  c(theta_hat, a, b)\n",
        "})"
      ]
    },
    {
      "cell_type": "code",
      "execution_count": null,
      "metadata": {
        "vscode": {
          "languageId": "r"
        },
        "id": "5ldTSXOQ4rWq"
      },
      "outputs": [],
      "source": [
        "# Extraer los resultados\n",
        "theta_hat_values <- matrix(theta_hat_values, ncol = 3, byrow = TRUE)\n",
        "\n",
        "# Varianza de theta_hat\n",
        "var_theta <- var(theta_hat_values[, 1])"
      ]
    },
    {
      "cell_type": "code",
      "execution_count": null,
      "metadata": {
        "vscode": {
          "languageId": "r"
        },
        "id": "PRfDk4HG4rWq",
        "outputId": "9d3a6171-ab18-4994-ac7b-99fad2703845"
      },
      "outputs": [
        {
          "name": "stdout",
          "output_type": "stream",
          "text": [
            "a_hat: 1.690483 \n",
            "b_hat: 0.873036 \n",
            "Estimación de theta_hat: 1.718436 \n",
            "Varianza de theta_hat: 4.792827e-05"
          ]
        }
      ],
      "source": [
        "# Resultados\n",
        "cat(\"a_hat:\", mean(theta_hat_values[, 2]), \"\\n\")\n",
        "cat(\"b_hat:\", mean(theta_hat_values[, 3]), \"\\n\")\n",
        "cat(\"Estimación de theta_hat:\", mean(theta_hat_values[, 1]), \"\\n\")\n",
        "cat(\"Varianza de theta_hat:\", var_theta)"
      ]
    },
    {
      "cell_type": "markdown",
      "metadata": {
        "id": "wCHvmqxZ59z0"
      },
      "source": [
        "Podemos observar que los valores obtenidos tanto mediante el enfoque analítico como utilizando el modelo lm son muy similares. Además, podemos comprobar que se cumple lo descrito en la demostración matemática, donde el valor de $c^{*}$ es igual a $-\\hat{a}$."
      ]
    },
    {
      "cell_type": "code",
      "execution_count": null,
      "metadata": {
        "colab": {
          "base_uri": "https://localhost:8080/"
        },
        "id": "PeRxrQJc5aQa",
        "outputId": "1ef6f555-0f05-4ff8-eb73-be7c209384c6",
        "vscode": {
          "languageId": "r"
        }
      },
      "outputs": [
        {
          "name": "stdout",
          "output_type": "stream",
          "text": [
            "Reducción de la varianza: 99.98033 %"
          ]
        }
      ],
      "source": [
        "# Reduccion de la varianza\n",
        "cat(\"Reducción de la varianza:\", (varianza - var_theta)/varianza*100, \"%\")"
      ]
    },
    {
      "cell_type": "markdown",
      "metadata": {
        "id": "HIEiSJhRwvTM"
      },
      "source": [
        "Utilizando la técnica de variables de control se obtuvo una reducción de la varianza de un 99,98%, demostrando la eficacia de este método."
      ]
    },
    {
      "cell_type": "markdown",
      "metadata": {
        "id": "3rQsZK247ZVr"
      },
      "source": [
        "Comparación grafica de las estimaciones:"
      ]
    },
    {
      "cell_type": "code",
      "execution_count": null,
      "metadata": {
        "id": "eJ5lIQNCdWae",
        "vscode": {
          "languageId": "r"
        }
      },
      "outputs": [],
      "source": [
        "# Data frames con las estimaciones\n",
        "data_simulaciones <- data.frame(estimates = simulaciones)\n",
        "data_theta_hat <- data.frame(estimates = theta_hat_values[, 1])\n",
        "\n",
        "# Tamaño de la figura\n",
        "options(repr.plot.width = 15, repr.plot.height = 4)"
      ]
    },
    {
      "cell_type": "code",
      "execution_count": null,
      "metadata": {
        "vscode": {
          "languageId": "r"
        },
        "id": "VqMmikCj4rWr"
      },
      "outputs": [],
      "source": [
        "# Establecer el rango común para el eje X\n",
        "rango <- range(c(simulaciones, theta_hat_values[, 1]))\n",
        "\n",
        "# Crear un único data frame combinando ambas estimaciones\n",
        "combined_data <- rbind(data.frame(estimates = data_simulaciones$estimates,\n",
        "Método = \"Sin variable de control\"),\n",
        "                       data.frame(estimates = data_theta_hat$estimates,\n",
        "                       Método = \"Con variable de control\"))"
      ]
    },
    {
      "cell_type": "code",
      "execution_count": null,
      "metadata": {
        "vscode": {
          "languageId": "r"
        },
        "id": "p9Vvs1Qa4rWr",
        "outputId": "09374bcc-990b-4dc9-edd7-6f13f49a4b40"
      },
      "outputs": [
        {
          "data": {
            "image/png": "[encoded data removed]",
            "text/plain": [
              "plot without title"
            ]
          },
          "metadata": {
            "image/png": {
              "height": 240,
              "width": 900
            }
          },
          "output_type": "display_data"
        }
      ],
      "source": [
        "# Crear el gráfico combinado\n",
        "plot_1 <- ggplot(combined_data, aes(x = estimates, fill = Método)) +\n",
        "  geom_histogram(alpha = 0.5, position = \"identity\", bins = 100) +\n",
        "  geom_vline(aes(xintercept = mean(theta_hat_values[, 1]), color = \"Estimación media\"), linetype = \"solid\") +\n",
        "  labs(x = \"Estimaciones\", y = \"Frecuencia\",\n",
        "       title = \"Comparación de Estimaciones con y sin Variable de Control\") +\n",
        "  scale_fill_manual(values = c(\"Sin variable de control\" = alpha(\"blue\", 0.5),\n",
        "\"Con variable de control\" = alpha(\"red\", 0.5))) +\n",
        "  scale_color_manual(values = c(\"Estimación media\" = \"black\"), guide = guide_legend(\"\")) +\n",
        "  xlim(rango) +\n",
        "  theme_minimal() +\n",
        "  theme(axis.text = element_text(size = 12))\n",
        "\n",
        "# Muestra el gráfico combinado\n",
        "print(plot_1)"
      ]
    },
    {
      "cell_type": "markdown",
      "metadata": {
        "id": "QDE47NbF_FMJ"
      },
      "source": [
        "### Utilizando $Z^{*}$"
      ]
    },
    {
      "cell_type": "markdown",
      "metadata": {
        "id": "XV26FiFc4rWr"
      },
      "source": [
        "En este segundo ejemplo, calcularemos la integral $\\int_{0}^{1} \\ln (\\frac{x^{2}+1}{x+2})dx$ mediante una simulación de Monte Carlo simple, es decir, sin variables de control, y luego una simulación con variable de control, similar al ejercicio anterior, pero esta vez calculando el valor de $Z^{*}$. Posteriormente, calcularemos el porcentaje de reducción de la varianza:"
      ]
    },
    {
      "cell_type": "code",
      "execution_count": null,
      "metadata": {
        "id": "q0RvTCoeGd9H",
        "vscode": {
          "languageId": "r"
        }
      },
      "outputs": [],
      "source": [
        "# Número de muestras\n",
        "n = 10000\n",
        "\n",
        "# Vector de valores aleatorios generados uniformemente\n",
        "x = runif(n)\n",
        "\n",
        "# Función a integrar\n",
        "X = function(x){log(x^2+1) / (x+2)}"
      ]
    },
    {
      "cell_type": "markdown",
      "metadata": {
        "id": "mnflMjmJ_J7N"
      },
      "source": [
        "En este caso utilizaremos como variable de control $Y=f(x)=x$, y comprobaremos su correlación con la función a integrar:"
      ]
    },
    {
      "cell_type": "code",
      "execution_count": null,
      "metadata": {
        "id": "XZWpbIBm_j_P",
        "vscode": {
          "languageId": "r"
        }
      },
      "outputs": [],
      "source": [
        "# Variable de control\n",
        "Y = function(x){x}"
      ]
    },
    {
      "cell_type": "code",
      "execution_count": null,
      "metadata": {
        "colab": {
          "base_uri": "https://localhost:8080/",
          "height": 34
        },
        "id": "IjWbEBYGCvLX",
        "outputId": "6b4875bf-8baa-4304-ded8-d902e8398001",
        "vscode": {
          "languageId": "r"
        }
      },
      "outputs": [
        {
          "data": {
            "text/html": [
              "0.992978341529189"
            ],
            "text/latex": [
              "0.992978341529189"
            ],
            "text/markdown": [
              "0.992978341529189"
            ],
            "text/plain": [
              "[1] 0.9929783"
            ]
          },
          "metadata": {},
          "output_type": "display_data"
        }
      ],
      "source": [
        "# Correlación\n",
        "cor(Y(x), X(x))"
      ]
    },
    {
      "cell_type": "markdown",
      "metadata": {
        "id": "wczGzfrn_8IP"
      },
      "source": [
        "Podemos observar que la correlación entre $X$ e $Y$ es considerablemente alta, lo que indica que la elección de la variable de control cumplirá con el objetivo de reducir la varianza."
      ]
    },
    {
      "cell_type": "markdown",
      "metadata": {
        "id": "dWI5QevZBg2F"
      },
      "source": [
        "Una vez definidas las funciones, podemos calcular el valor de $c^{*}$ de la siguiente manera:"
      ]
    },
    {
      "cell_type": "code",
      "execution_count": null,
      "metadata": {
        "colab": {
          "base_uri": "https://localhost:8080/",
          "height": 34
        },
        "id": "weV3qnGWA7QL",
        "outputId": "2bcf13f3-d876-491a-e92b-d47aa44f55d4",
        "vscode": {
          "languageId": "r"
        }
      },
      "outputs": [
        {
          "data": {
            "text/html": [
              "-0.251397260205093"
            ],
            "text/latex": [
              "-0.251397260205093"
            ],
            "text/markdown": [
              "-0.251397260205093"
            ],
            "text/plain": [
              "[1] -0.2513973"
            ]
          },
          "metadata": {},
          "output_type": "display_data"
        }
      ],
      "source": [
        "# Carcular c*\n",
        "c_star = - cov(X(x), Y(x)) / var(Y(x))\n",
        "c_star"
      ]
    },
    {
      "cell_type": "markdown",
      "metadata": {
        "id": "Btj8YkiYB2yF"
      },
      "source": [
        "A continuación, definiremos tres funciones que nos ayudarán a resolver este ejercicio. La primera es la función de estimación de Monte Carlo simple, la segunda es la estimación de Monte Carlo utilizando la técnica de variable de control y la última es una función para calcular el valor esperado de una función con distribución de probabilidad uniforme:\n",
        "\n"
      ]
    },
    {
      "cell_type": "code",
      "execution_count": null,
      "metadata": {
        "id": "GG2gEkUb6pCy",
        "vscode": {
          "languageId": "r"
        }
      },
      "outputs": [],
      "source": [
        "#Estimación simple Monte Carlo\n",
        "MC_simple = function(n)\n",
        "{\n",
        "    x=runif(n)\n",
        "    fx = X(x)\n",
        "    return(mean(fx))\n",
        "}"
      ]
    },
    {
      "cell_type": "code",
      "execution_count": null,
      "metadata": {
        "vscode": {
          "languageId": "r"
        },
        "id": "ure5nfiC4rWx"
      },
      "outputs": [],
      "source": [
        "#Estimación Monte Carlo con variable de control (Z*)\n",
        "MC_VC = function(n)\n",
        "{\n",
        "    x = runif(n)\n",
        "    Z_star = mean(X(x)) + c_star * (mean(Y(x)) - E_f_unif)\n",
        "    return(Z_star)\n",
        "}"
      ]
    },
    {
      "cell_type": "code",
      "execution_count": null,
      "metadata": {
        "vscode": {
          "languageId": "r"
        },
        "id": "HKtHKj9a4rWx"
      },
      "outputs": [],
      "source": [
        "# Valor esperado de una función con pdf uniforme\n",
        "E_F.unif <- function(funcion, intervalo_inf, intervalo_sup) {\n",
        "  pdf_uniforme <- function(x) dunif(x, intervalo_inf, intervalo_sup)\n",
        "  esperanza <- integrate(function(x) {\n",
        "    funcion(x) * pdf_uniforme(x) }, intervalo_inf, intervalo_sup)$value\n",
        "  return(esperanza)\n",
        "}"
      ]
    },
    {
      "cell_type": "markdown",
      "metadata": {
        "id": "H1SHtPwyDFvs"
      },
      "source": [
        "Calculamos el valor esperado de $Y$. Posteriormente, generamos las estimaciones de Monte Carlo de ambos métodos:"
      ]
    },
    {
      "cell_type": "code",
      "execution_count": null,
      "metadata": {
        "colab": {
          "base_uri": "https://localhost:8080/"
        },
        "id": "ommlTzlQjQaC",
        "outputId": "61a3e0b5-8e85-4758-924b-4e81962143eb",
        "vscode": {
          "languageId": "r"
        }
      },
      "outputs": [
        {
          "name": "stdout",
          "output_type": "stream",
          "text": [
            "E[Y] para la distribución uniforme en [0, 1] es: 0.5"
          ]
        }
      ],
      "source": [
        "E_f_unif <- E_F.unif(Y , 0, 1)\n",
        "cat(\"E[Y] para la distribución uniforme en [0, 1] es:\", E_f_unif)"
      ]
    },
    {
      "cell_type": "code",
      "execution_count": null,
      "metadata": {
        "id": "EpFznFwiHiut",
        "vscode": {
          "languageId": "r"
        }
      },
      "outputs": [],
      "source": [
        "# Número de simulaciones\n",
        "R <- 5000\n",
        "\n",
        "#Estimación de MC con ambos metodos\n",
        "MC_simple.estimates = replicate(R, MC_simple(n))\n",
        "MC_VC.estimates = replicate(R, MC_VC(n))"
      ]
    },
    {
      "cell_type": "code",
      "execution_count": null,
      "metadata": {
        "vscode": {
          "languageId": "r"
        },
        "id": "5uv7pKk74rWy",
        "outputId": "bcab79bd-9163-489f-aa8a-201fb3bf3b6e"
      },
      "outputs": [
        {
          "name": "stdout",
          "output_type": "stream",
          "text": [
            "Estimación MC simple: 0.09719498 \n",
            "Varianza de la estimación MC simple: 5.367753e-07 \n",
            "\n",
            "Estimación MC con variable de control: 0.09717428 \n",
            "Varianza de la estimación MC con variable de control: 7.37468e-09"
          ]
        }
      ],
      "source": [
        "cat(\"Estimación MC simple:\", mean(MC_simple.estimates), \"\\n\")\n",
        "cat(\"Varianza de la estimación MC simple:\", var(MC_simple.estimates), \"\\n\\n\")\n",
        "cat(\"Estimación MC con variable de control:\", mean(MC_VC.estimates), \"\\n\")\n",
        "cat(\"Varianza de la estimación MC con variable de control:\", var(MC_VC.estimates))"
      ]
    },
    {
      "cell_type": "code",
      "execution_count": null,
      "metadata": {
        "colab": {
          "base_uri": "https://localhost:8080/"
        },
        "id": "lVLWZhnDFivw",
        "outputId": "b21396f5-6488-4168-ab18-198e91f553fc",
        "vscode": {
          "languageId": "r"
        }
      },
      "outputs": [
        {
          "name": "stdout",
          "output_type": "stream",
          "text": [
            "Se obtiene una reducción en la varianza de un: 98.6006 %"
          ]
        }
      ],
      "source": [
        "cat(\"Se obtiene una reducción en la varianza de un:\", cor(Y(x), X(x))^2 * 100,\"%\" )"
      ]
    },
    {
      "cell_type": "markdown",
      "metadata": {
        "id": "BQiYYryEEylo"
      },
      "source": [
        "En este ejemplo, hemos obtenido una reducción de la varianza de un 98,60% al utilizar una variable de control."
      ]
    },
    {
      "cell_type": "markdown",
      "metadata": {
        "id": "14vY-r-2FK-W"
      },
      "source": [
        "Comparación grafica de las estimaciones:"
      ]
    },
    {
      "cell_type": "code",
      "execution_count": null,
      "metadata": {
        "id": "8InqJu1SfKhr",
        "vscode": {
          "languageId": "r"
        }
      },
      "outputs": [],
      "source": [
        "# Data frames con las estimaciones\n",
        "data_simpleMC <- data.frame(estimates = MC_simple.estimates)\n",
        "data_MC_VC <- data.frame(estimates = MC_VC.estimates)\n",
        "\n",
        "# Tamaño de la figura\n",
        "options(repr.plot.width = 15, repr.plot.height = 4)"
      ]
    },
    {
      "cell_type": "code",
      "execution_count": null,
      "metadata": {
        "vscode": {
          "languageId": "r"
        },
        "id": "EFqeOrVs4rWy"
      },
      "outputs": [],
      "source": [
        "# Establecer el rango común para el eje X\n",
        "rango_comun <- range(c(MC_simple.estimates, MC_VC.estimates))\n",
        "\n",
        "# Crear un único data frame combinando ambas estimaciones\n",
        "combined_data_2 <- rbind(data.frame(estimates = data_simpleMC$estimates,\n",
        "Método = \"Sin variable de control\"),\n",
        "                       data.frame(estimates = data_MC_VC$estimates,\n",
        "                       Método = \"Con variable de control\"))"
      ]
    },
    {
      "cell_type": "code",
      "execution_count": null,
      "metadata": {
        "vscode": {
          "languageId": "r"
        },
        "id": "lLDYtcjm4rWy",
        "outputId": "1ab66640-fb51-403a-86c3-40d36f2365db"
      },
      "outputs": [
        {
          "data": {
            "image/png": "[encoded data removed]",
            "text/plain": [
              "plot without title"
            ]
          },
          "metadata": {
            "image/png": {
              "height": 240,
              "width": 900
            }
          },
          "output_type": "display_data"
        }
      ],
      "source": [
        "# Crear el gráfico combinado con línea vertical en la media y asignar nombre a la estética para la leyenda\n",
        "plot_2 <- ggplot(combined_data_2, aes(x = estimates, fill = Método)) +\n",
        "  geom_histogram(alpha = 0.5, position = \"identity\", bins = 100) +\n",
        "  geom_vline(aes(xintercept = mean(MC_VC.estimates), color = \"Estimación media\"), linetype = \"solid\") +\n",
        "  labs(x = \"Estimaciones\", y = \"Frecuencia\",\n",
        "       title = \"Comparación de Estimación Monte Carlo con y sin variable de control\") +\n",
        "  scale_fill_manual(values = c(\"Sin variable de control\" = alpha(\"blue\", 0.5),\n",
        "                                \"Con variable de control\" = alpha(\"red\", 0.5))) +\n",
        "  scale_color_manual(values = c(\"Estimación media\" = \"black\"), guide = guide_legend(\"\")) +\n",
        "  xlim(rango_comun) +\n",
        "  theme_minimal() +\n",
        "  theme(axis.text = element_text(size = 12))\n",
        "\n",
        "# Muestra el gráfico combinado\n",
        "print(plot_2)"
      ]
    },
    {
      "cell_type": "markdown",
      "metadata": {
        "id": "jC3EZ2nRaGcY"
      },
      "source": [
        "---\n",
        "\n",
        "# Variables antitéticas"
      ]
    },
    {
      "cell_type": "markdown",
      "metadata": {
        "id": "Xd_G2Kk6CB1j"
      },
      "source": [
        " Un método efectivo para lograr el área investigada es el uso de variables antitéticas. Estas variables están negativamente correlacionadas entre si y comparten la misma distribución que la variable $Y$, ofreciendo una forma de reducir la varianza. Además para asegurar la reducción de la varianza se debe de asegurar que la variable aleatoria $Y$ sea monótona.\n",
        "\n",
        "Este concepto se ve muy claro para casos de estimadores basados en pares de variables aleatorias, $Y_1$ e $Y_2$ que en este caso son antitéticas. Esto significa que la obtención de la segunda muestra, es obtenida a partir de la primera de manera que la correlación entre ellas es negativa haciendo que la varianza disminuya. A parte de reducir la varianza, tambien provoca una reducción significativa en el coste computacional. y con una mayor precisión\n",
        "\n",
        "Esto solo se aplica a diversas distribuciones como la uniforme, la normal o la exponencial que permiten contrarrestar los valores extremos de las muestras, es decir, una de las ideas principales detrás de las varables antitéticas es crear una relación entre pares de variables aleatorias de manera que cuando una variable tome un valor alto, su contraparte tienda a tomar un valor bajo, y viceversa, reduciendo así la varianza en las estimaciones.\n"
      ]
    },
    {
      "cell_type": "markdown",
      "metadata": {
        "id": "7BdhA5Ic51rr"
      },
      "source": [
        "## Demostración matemática"
      ]
    },
    {
      "cell_type": "markdown",
      "metadata": {
        "id": "vCRl-enHdYMS"
      },
      "source": [
        "En este apartado se desarrollará matematicamente el beneficio que se obtiene al utilizar las variables antitéticas.\n",
        "\n",
        "Se quiere estimar una determinada magnitud $θ=E[Y]$. Para ello se generá un número par de muestras aleatorias independientes y distintas con el mismo tamaño (en nuestro caso dos muestras, $Y_1,\\ Y_2$) que siguen una distribución uniforme $U(0,1)$ la misma distribución con la que se obtiene $Y$, de los cuales se obtienen el siguiente estimador:\n",
        "$$\n",
        "\\tilde{θ}=\\frac{Y_1+Y_2}{2}\n",
        "$$ siendo un estimador insesgado de la media, ya que $E[\\tilde{θ}]=E[Y_1]=E[Y_2]$.\n",
        "\n",
        "Este estimador tiene una varianza igual a:\n",
        "$$Var(\\tilde{θ})=\\frac{Var(Y_1)+Var(Y_2)+2Cov(Y_1,Y_2)}{4}\n",
        "$$ donde $Var(Y_1)=Var(Y_2)$, ya que $Y_1$ e $Y_2$ pertenecen a la misma distribución y al ser independientes la $Cov(Y_1,Y_2)=0$, con lo que se nos quedaría en\n",
        "$$\n",
        "Var(\\tilde{θ})=\\frac{Var(Y_1)}{2}\n",
        "$$"
      ]
    },
    {
      "cell_type": "markdown",
      "metadata": {
        "id": "K9hNxkdyvITM"
      },
      "source": [
        "Pero si la $Cov(Y_1,Y_2)<0$, la varianza se vería reducida y es donde entran la importancia de las variables antitéticas.\n",
        "\n",
        "Para ello, $Y$ debe de ser monótona, porque en el caso de no serlo no se puede asegurar que se reduzca la varianza.\n",
        "\n",
        "En vez de generar dos muestras aleatorias, se buscará una forma de obtener una segunda muestra que cumpla con $Cov(Y_1,Y_2)<0$ a partir de $Y_1$. Esto se realiza según el caso de las siguientes maneras:\n",
        "\n",
        "- Si es una distribuciún uniforme, $Y_2=1-Y_1$ lo cual $Y_2∼U(0,1)$\n",
        "  \n",
        "- Si es una normal estandar, $Y_2=-Z$\n",
        "\n",
        "Para estos dos casos (simetría en la distribución de $Y_1$), se cumple que la variable antitética es $Y_2=2\\mu-Y_1$ donde $\\mu$ es el valor central.\n",
        "\n",
        "Esto es debido a que la idea principal detrás de las variables antitéticas es crear una relación entre pares de variables aleatorias.\n",
        "\n",
        "- En caso de que Y no sea simétrica, se recurrirá a la función inversa siempre que sea posible con la distribución de interés $Y$, $Y_1=F^{-1}(U)$ e $Y_2=F^{-1}(1-U)$ para crear la relación comentada anteriormente.\n",
        "\n",
        "Al obtener la segunda muestra a partir de la primera, realmente en vez de generar $2n$ datos, solo habría que procesar $n$ datos y calcular su pareja (variable antitética) por lo que se reduciría el coste computacional asociado a ello.\n",
        "\n",
        "Esto último, también afecta en el cálculo de los estimadores, ya que $E[\\tilde{θ}]$ pasaría a ser igual a\n",
        "$$\n",
        "\\frac{1}{N}∑^{N/2}_{k=1}\\frac{Y_k+Y^*_k}{2}\n",
        "$$\n",
        " donde N es un número par y es el número de variables aleatorias y donde cada $Y_k\\ y\\ Y^*_k$ está distribuida como $Y$.\n",
        "Y el cálculo de su varianza sería igual a\n",
        "$$\n",
        "\\frac{Var(Y)+Cov(Y,Y^*)}{2N}\\ =\\ \\frac{Var(Y)}{2N}(1+ρ_{YY^*})\n",
        "$$\n",
        "\n",
        "En resumen,\n",
        "$$\\frac{Var(Y)+Cov(Y,Y^*)}{2N}<\\frac{Var(Y)}{2N}\n",
        "$$ siendo la izquierda la sección con  variables antitéticas donde tiene un valor de la covarianza negativo y la derecha la sección con covarianza igual a $0$ al ser independientes."
      ]
    },
    {
      "cell_type": "markdown",
      "metadata": {
        "id": "E9fsV6_XspXd"
      },
      "source": [
        "## Demostración experimental"
      ]
    },
    {
      "cell_type": "markdown",
      "metadata": {
        "id": "zTlg1NSpKqpm"
      },
      "source": [
        "El experimento trata de hacer una comparación de la estimación de la integral\n",
        "$$\n",
        "\\int^1_0e^x\n",
        "$$ con y sin el uso de variables antitéticas para comprobar la mejora con su uso utilizando la distribución uniforme. También se calculara el resultado teórico para comparar\n",
        "\n",
        "Una de las características importantes de $e^x$ para el uso de las variables antitéticas es que es monótona en el rango de 0 a 1 por lo que no habría ningún problema en utilizar esta técnica de manera directa.\n",
        "\n",
        "Las siguientes celdas de código es el cálculo de los resultados utilizando tanto variables antitéticas como sin utilizarlas y una función para mostrar la distribución de los estimadores de cada método."
      ]
    },
    {
      "cell_type": "code",
      "execution_count": null,
      "metadata": {
        "id": "3bFRzWpOHxJ6",
        "vscode": {
          "languageId": "r"
        }
      },
      "outputs": [],
      "source": [
        "# -------Procedimiento habitual -----\n",
        "monteCarlo <- function(f,a,b,n,dist){\n",
        "  if(identical(dist, \"uniforme\")){\n",
        "    x <- runif(n,a,b)\n",
        "    y <- (b-a)*f(x) }\n",
        "  # Area del estimador\n",
        "  media_no_anti <- mean(y)\n",
        "  # Varianza del estimador\n",
        "  var_no_anti <- var(y)\n",
        "  #Error del estimador\n",
        "  error_no_anti <- 2*sd(y) / sqrt(n)\n",
        "  return(list(variable=y, media=media_no_anti, varianza=var_no_anti, error= error_no_anti))\n",
        "  }"
      ]
    },
    {
      "cell_type": "code",
      "execution_count": null,
      "metadata": {
        "vscode": {
          "languageId": "r"
        },
        "id": "DNEFr4pc4rW0"
      },
      "outputs": [],
      "source": [
        "# ----Procedimiento variables antitéticas --\n",
        "antitetica <- function(f,a,b,n,dist){\n",
        "  n2 <- n %/% 2\n",
        "  if(identical(dist, \"uniforme\")){\n",
        "    x1 <- runif(n2,a,b)\n",
        "    x2 <- 2*((a+b)/2)-x1\n",
        "    y1 <- f(x1)*(b-a)\n",
        "    y2 <- f(x2)*(b-a)\n",
        "  }\n",
        "  corr <- cor(y1, y2)\n",
        "  # Estimador de la media\n",
        "  y_ant <- 0.5 * (y1 + y2)\n",
        "  # Media del estimador\n",
        "  media_ant <- mean(y_ant)\n",
        "  # Varianza del estimador\n",
        "  var_ant <- .25*(var(y1)+var(y2)+2*cov(y1,y2))\n",
        "  #Error del estimador\n",
        "  error_ant <- 2*sd(y_ant)/sqrt(n) * sqrt(1+corr)\n",
        "  return (list(variable=y_ant,media=media_ant, varianza=var_ant, error= error_ant))\n",
        "}"
      ]
    },
    {
      "cell_type": "code",
      "execution_count": null,
      "metadata": {
        "id": "_BlDZmWRXQRa",
        "vscode": {
          "languageId": "r"
        }
      },
      "outputs": [],
      "source": [
        "grafico_disposicion_muestras <- function(y_no_antitetica, y_antitetica, y_antitetica2) {\n",
        "  # Asegurarse de que ambos vectores tengan la misma longitud\n",
        "  min_length <- min(length(y_no_antitetica), length(y_antitetica))\n",
        "  y_no_antitetica <- y_no_antitetica[1:min_length]\n",
        "  y_antitetica <- y_antitetica[1:min_length]\n",
        "  # Crear un data frame con tus datos\n",
        "  if(length(y_antitetica2)==1){\n",
        "      df <- data.frame(value = c(y_no_antitetica, y_antitetica),group = rep(c(\"No Antitética\", \"Antitética\"),\n",
        "         each = min_length))}\n",
        "  else {df <- data.frame(value = c(y_no_antitetica, y_antitetica,y_antitetica2),group = rep(c(\"No Antitética\",\n",
        "    \"Antitética\",\"Antitetica 2\"), each = min_length))}\n",
        "  # Crear el gráfico con ggplot2\n",
        "  p <- ggplot(df, aes(x = value, fill = group)) +\n",
        "    geom_histogram(alpha = 0.5, position = \"identity\", bins = 100) +\n",
        "    labs(title = \"Comparación de Muestras\",\n",
        "         x = \"Valores de y\",\n",
        "         y = \"Frecuencia\") +\n",
        "    scale_fill_manual(name = \"Métodos\", values = c(\"No Antitética\" = alpha(\"blue\", 0.5),\n",
        "      \"Antitética\" = alpha(\"red\", 0.5), \"Antitetica 2\" = alpha(\"green\", 0.3))) +\n",
        "    theme_minimal() +\n",
        "    theme()\n",
        "  options(repr.plot.width = 15, repr.plot.height = 4)\n",
        "  return(p)\n",
        "}"
      ]
    },
    {
      "cell_type": "markdown",
      "metadata": {
        "id": "nk4rEeoUKYq0"
      },
      "source": [
        "### Uniforme\n"
      ]
    },
    {
      "cell_type": "code",
      "execution_count": null,
      "metadata": {
        "id": "KxTz4iwkCTBd",
        "vscode": {
          "languageId": "r"
        }
      },
      "outputs": [],
      "source": [
        "set.seed(100)\n",
        "f <- function(x) exp(x)\n",
        "i_numeric <- integrate(f, 0, 1)$value\n",
        "n <- 1000\n",
        "res_montecarlo_uni = monteCarlo(f,0,1,n,\"uniforme\")\n",
        "res_antitetica_uni= antitetica(f,0,1,n,\"uniforme\")"
      ]
    },
    {
      "cell_type": "markdown",
      "metadata": {
        "id": "XX9OdfIh4MaU"
      },
      "source": [
        "En el siguiente gráfico se muestra la distribución de las muestras evaluadas con la función de densidad $e^x$ en el intervalo [0,1]. En azul se muestra la variable aleatoria $Y_1$ la cual es una uniforme de tamaño $n$, con ella se observa que se distribuye de forma uniforme por todo el intervalo posible de valores que sería igual al espacio [1,e].\n",
        "\n",
        "Pero con el uso de las variables antitéticas, donde $Y_1=U(0,1)$ e $Y_2=1-U(0,1)$ son un par de variables aleatorias con un tamaño igual a $\\frac{n}{2}$. En este caso se observa la idea principal sobre las variables antitéticas, mostrando como las dos variables se distribuyen alrededor del centro, es decir la media, al ser la función de densidad de probabilidad de $Y_1$ sea simétrica. Para un caso más general, que es el que se ha implementado, $Y_2$ se obtendría a partir de $Y_2=2\\mu - Y_1$, que con un $U(0,1)$ sería igual al cálculo de antes.\n",
        "\n",
        "Al multiplicar por $(b−a)$ a la muestra evaluada, se está escalando $f(x)$ para que sea consistente con la amplitud del intervalo. Esto asegura que la contribución de $Y$ en la media sea más representativa.\n",
        "\n",
        "Esto muestra los efecto del uso de la correlación negativa y como disponen alrededor de un punto central reduciendo la amplitud de las muestras individuales y provocando una reducción en la variación en los resultado que lo que conduce a la vez a estimaciones más precisas utilizando una menor cantidad de muestras."
      ]
    },
    {
      "cell_type": "code",
      "execution_count": null,
      "metadata": {
        "colab": {
          "base_uri": "https://localhost:8080/",
          "height": 257
        },
        "id": "fUrEGs-23oJm",
        "outputId": "1a680fc3-6189-4e8a-be62-dd92c45098b8",
        "vscode": {
          "languageId": "r"
        }
      },
      "outputs": [
        {
          "data": {
            "image/png": "[encoded data removed]",
            "text/plain": [
              "plot without title"
            ]
          },
          "metadata": {
            "image/png": {
              "height": 240,
              "width": 900
            }
          },
          "output_type": "display_data"
        }
      ],
      "source": [
        "p <- grafico_disposicion_muestras(res_montecarlo_uni$variable,res_antitetica_uni$variable,0)\n",
        "p + geom_vline(xintercept = res_antitetica_uni$media, linetype = \"solid\", color = \"black\") +\n",
        "    scale_x_continuous(breaks = c(1, 1.5, res_antitetica_uni$media, 2, 2.5, exp(1)),\n",
        "        labels = c(1, 1.5, \"media antitética\", 2, 2.5, \"e\")) +\n",
        "    theme(axis.text.x = element_text(size = 12))"
      ]
    },
    {
      "cell_type": "markdown",
      "metadata": {
        "id": "tloVUkbudAJl"
      },
      "source": [
        "En los resultados se observa que el método más preciso en calcular el área de la variable de interés es la técnica de MonteCarlo con la integración de las variables antitéticas.\n",
        "\n",
        "Tanto la varianza y el error se ve enormemente reducidas con el añadido de las variables antitéticas, en un 99.6% y 99.92% respectivamente, en comparación con el uso del método de MonteCarlo estandar.\n",
        "\n",
        "Con esta información se ha demostrado el aumento de la precisión y la reducción de la varianza al utilizar las variables antitéticas con un tamaño de muestra menor para el caso de aplicar una distribución uniforme para la variable aleatoria $Y_1$"
      ]
    },
    {
      "cell_type": "code",
      "execution_count": null,
      "metadata": {
        "colab": {
          "base_uri": "https://localhost:8080/",
          "height": 192
        },
        "id": "5qoPN8ktZu4y",
        "outputId": "8dbaa815-3227-4ff1-f2cf-2926cd03363c",
        "vscode": {
          "languageId": "r"
        }
      },
      "outputs": [
        {
          "data": {
            "text/html": [
              "<table class=\"dataframe\">\n",
              "<caption>A data.frame: 3 × 4</caption>\n",
              "<thead>\n",
              "\t<tr><th scope=col>Método</th><th scope=col>Media</th><th scope=col>Varianza</th><th scope=col>Error</th></tr>\n",
              "\t<tr><th scope=col>&lt;chr&gt;</th><th scope=col>&lt;dbl&gt;</th><th scope=col>&lt;dbl&gt;</th><th scope=col>&lt;dbl&gt;</th></tr>\n",
              "</thead>\n",
              "<tbody>\n",
              "\t<tr><td>Real               </td><td>1.718282</td><td>         NA</td><td>         NA</td></tr>\n",
              "\t<tr><td>Montecarlo estandar</td><td>1.748434</td><td>0.243826498</td><td>0.031229889</td></tr>\n",
              "\t<tr><td>Antitéticas        </td><td>1.718744</td><td>0.004002141</td><td>0.000724398</td></tr>\n",
              "</tbody>\n",
              "</table>\n"
            ],
            "text/latex": [
              "A data.frame: 3 × 4\n",
              "\\begin{tabular}{llll}\n",
              " Método & Media & Varianza & Error\\\\\n",
              " <chr> & <dbl> & <dbl> & <dbl>\\\\\n",
              "\\hline\n",
              "\t Real                & 1.718282 &          NA &          NA\\\\\n",
              "\t Montecarlo estandar & 1.748434 & 0.243826498 & 0.031229889\\\\\n",
              "\t Antitéticas         & 1.718744 & 0.004002141 & 0.000724398\\\\\n",
              "\\end{tabular}\n"
            ],
            "text/markdown": [
              "\n",
              "A data.frame: 3 × 4\n",
              "\n",
              "| Método &lt;chr&gt; | Media &lt;dbl&gt; | Varianza &lt;dbl&gt; | Error &lt;dbl&gt; |\n",
              "|---|---|---|---|\n",
              "| Real                | 1.718282 |          NA |          NA |\n",
              "| Montecarlo estandar | 1.748434 | 0.243826498 | 0.031229889 |\n",
              "| Antitéticas         | 1.718744 | 0.004002141 | 0.000724398 |\n",
              "\n"
            ],
            "text/plain": [
              "  Método              Media    Varianza    Error      \n",
              "1 Real                1.718282          NA          NA\n",
              "2 Montecarlo estandar 1.748434 0.243826498 0.031229889\n",
              "3 Antitéticas         1.718744 0.004002141 0.000724398"
            ]
          },
          "metadata": {},
          "output_type": "display_data"
        }
      ],
      "source": [
        "data.frame(\n",
        "  Método = c(\"Real\", \"Montecarlo estandar\", \"Antitéticas\"),\n",
        "  Media = c(i_numeric, res_montecarlo_uni$media, res_antitetica_uni$media),\n",
        "  Varianza = c(NA, res_montecarlo_uni$varianza, res_antitetica_uni$varianza),\n",
        "  Error = c(NA, res_montecarlo_uni$error, res_antitetica_uni$error)\n",
        ")"
      ]
    },
    {
      "cell_type": "markdown",
      "metadata": {
        "id": "j2xybYyIHT6k"
      },
      "source": [
        "### Normal Estandar"
      ]
    },
    {
      "cell_type": "markdown",
      "metadata": {
        "id": "sWJf8U8w4rW1"
      },
      "source": [
        "Este apartado viene añadido en el notebook con la invsestigación entera que se ha hecho, pero debido al límite de páginas se ha decidido eliminar. Pero como conclusión se ha demostrado que se produce una mejora tanto en la preicsión, como en la varianza y el error."
      ]
    },
    {
      "cell_type": "markdown",
      "metadata": {
        "id": "4GcT6BluINS6"
      },
      "source": [
        "### Exponencial"
      ]
    },
    {
      "cell_type": "markdown",
      "metadata": {
        "id": "vRaxQM5q4rW2"
      },
      "source": [
        "Este apartado viene añadido en el notebook con la invsestigación entera que se ha hecho, pero debido al límite de páginas se ha decidido eliminar. Pero como conclusión se ha demostrado que se produce una mejora tanto en la preicsión, como en la varianza y el error."
      ]
    },
    {
      "cell_type": "markdown",
      "metadata": {
        "id": "zUJ-ycC9fEnY"
      },
      "source": [
        "### No monótona\n"
      ]
    },
    {
      "cell_type": "markdown",
      "metadata": {
        "id": "HAJ0ZRngfylH"
      },
      "source": [
        "Para el caso de que la función de densidad de la variable de interés que no sea monótona en el intervalo de interés, habrá que tratarlo de una manera diferente. De forma directa no se puede usar este método debido a que se vuelve imposible obtener una correlación positiva, debido a la forma de la variable de interés en un intervalo fijado. La forma para resolver este problema sería dividir por tramos que si sean monótonos y evaluarlos en cada uno. Con el siguiente ejemplo se entenderá mejor.\n",
        "\n",
        "Para este apartado se va a calcular $\\int_{-1}^{1}-x^2+2$. La cual como se observa en la siguiente imagen no es monótona, ya que tiene un punto de inflexión en la posición (0,2)."
      ]
    },
    {
      "cell_type": "code",
      "execution_count": null,
      "metadata": {
        "colab": {
          "base_uri": "https://localhost:8080/",
          "height": 197
        },
        "id": "A-NRUNBJiyY1",
        "outputId": "c337fa0e-cf50-4ef2-e50f-0a813c2f1043",
        "vscode": {
          "languageId": "r"
        }
      },
      "outputs": [
        {
          "data": {
            "image/png": "[encoded data removed]",
            "text/plain": [
              "plot without title"
            ]
          },
          "metadata": {
            "image/png": {
              "height": 240,
              "width": 900
            }
          },
          "output_type": "display_data"
        }
      ],
      "source": [
        "f <- function(x) -x^2 + 2\n",
        "x_values <- seq(-3, 3, length.out = 100)\n",
        "y_values <- f(x_values)\n",
        "data <- data.frame(x = x_values, y = y_values)\n",
        "options(repr.plot.width = 15, repr.plot.height = 4)\n",
        "ggplot(data, aes(x, y)) +\n",
        "  geom_line() +\n",
        "  geom_point(x = 0, y = 2, color = \"red\", size = 2) +\n",
        "  annotate(\"text\", x = 0.2, y = 1.5, label = \"(0,2)\", color = \"red\", size = 6) +\n",
        "  geom_vline(xintercept = c(-1, 1), linetype = \"dashed\", color = \"blue\") +\n",
        "  geom_vline(xintercept = c(0, 0), linetype = \"solid\", color = \"black\") +\n",
        "  geom_hline(yintercept = 0, linetype = \"solid\", color = \"black\") +\n",
        "  geom_point(x = -1, y = 0, color = \"blue\", size = 2) +\n",
        "  geom_point(x = 1, y = 0, color = \"blue\", size = 2) +\n",
        "  annotate(\"text\", x = -1.1, y = 0.3, label = \"-1\", color = \"blue\", size = 6) +\n",
        "  annotate(\"text\", x = 1.1, y = 0.3, label = \"1\", color = \"blue\", size = 6) +\n",
        "  labs(title = \"Gráfico de la función y = -x^2 + 2\",\n",
        "       x = \"x\",\n",
        "       y = \"y\") +\n",
        "  theme_minimal()"
      ]
    },
    {
      "cell_type": "markdown",
      "metadata": {
        "id": "lYyaHHJek5Q2"
      },
      "source": [
        "Ahora se aplica el método de las variables antitéticas y el de MonteCarlo estandar para ver si se produce una mejora y cual obtiene un valor más ajustado al valor real. Para la sección de las variables antitéticas, se ha dividido en el intervalo $[-1,0]$ donde es monótona creciente y [0,1] que es monótona decreciente. Al calcular la media de los estimadores y sumarlas se obtendrá el área total de la función. Luego para el error y la varianza, se hará un promedio de los valores de cada tramo."
      ]
    },
    {
      "cell_type": "code",
      "execution_count": null,
      "metadata": {
        "id": "_C0IzuI9lgGv",
        "vscode": {
          "languageId": "r"
        }
      },
      "outputs": [],
      "source": [
        "set.seed(100)\n",
        "f <- function(x) -x^2 + 2\n",
        "n=1000\n",
        "i_numeric <- integrate(f, -1, 1)$value\n",
        "res_montecarlo_no_mon = monteCarlo(f,-1,1,n,\"uniforme\")\n",
        "res_antitetica_no_mon_1 = antitetica(f,-1,0,n,\"uniforme\")\n",
        "res_antitetica_no_mon_2 = antitetica(f,0,1,n,\"uniforme\")\n",
        "media_anti_no_mono = res_antitetica_no_mon_1$media +res_antitetica_no_mon_2$media\n",
        "varianza_anti_no_mono = (res_antitetica_no_mon_1$varianza + res_antitetica_no_mon_2$varianza) /2\n",
        "error_anti_no_mono = (res_antitetica_no_mon_1$error + res_antitetica_no_mon_2$error) /2"
      ]
    },
    {
      "cell_type": "markdown",
      "metadata": {
        "id": "rNrARH-AwfmN"
      },
      "source": [
        "En el siguiente gráfico se presenta las muestras evaluadas con la media antitética. Se observa que las variables antitéticas se encuentran en torno a la media antitética y por las propiedades de la función de densidad tienen valores parecidos. En cuanto al uso de Monte Carlo estandar, se distribuye de forma uniforme por todos lo valores posibles al evaluarla co una muestra en el intervalo $[-1,1]$."
      ]
    },
    {
      "cell_type": "code",
      "execution_count": null,
      "metadata": {
        "colab": {
          "base_uri": "https://localhost:8080/",
          "height": 257
        },
        "id": "WYfAkKa4vz5k",
        "outputId": "cf9b713c-65bb-437f-86ff-b06889a2d452",
        "vscode": {
          "languageId": "r"
        }
      },
      "outputs": [
        {
          "data": {
            "image/png": "[encoded data removed]",
            "text/plain": [
              "plot without title"
            ]
          },
          "metadata": {
            "image/png": {
              "height": 240,
              "width": 900
            }
          },
          "output_type": "display_data"
        }
      ],
      "source": [
        "p <- grafico_disposicion_muestras(res_montecarlo_no_mon$variable,\n",
        "    res_antitetica_no_mon_1$variable,res_antitetica_no_mon_2$variable)\n",
        "p + geom_vline(xintercept = res_antitetica_uni$media, linetype = \"solid\", color = \"black\") +\n",
        "    scale_x_continuous(breaks = c(1.5, res_antitetica_uni$media, 2, 2.5, 3),\n",
        "        labels = c(1.5, \"media antitética\", 2, 2.5,3)) +\n",
        "    theme(axis.text.x = element_text(size = 12))"
      ]
    },
    {
      "cell_type": "markdown",
      "metadata": {
        "id": "PQjZbibd4JIz"
      },
      "source": [
        "Se sigue observando que el método más preciso en calcular el área de la variable de interés es la técnica con variables antitéticas aplicando la división en intervalos.\n",
        "\n",
        "Tanto la varianza y el error se ve enormemente reducidas con el añadido de las variables antitéticas, en un 98.47% y 95.67% respectivamente, en comparación con el uso del método de MonteCarlo estandar.\n",
        "\n",
        "Con esta información se ha demostrado el aumento de la precisión y la reducción de la varianza al utilizar las variables antitéticas. Pero hay una diferencia, ya que para este caso por cada tramo habría que generar un muestra, por lo que no se produce una reducción en el coste computacional asociado a la generación de muestras."
      ]
    },
    {
      "cell_type": "code",
      "execution_count": null,
      "metadata": {
        "colab": {
          "base_uri": "https://localhost:8080/",
          "height": 192
        },
        "id": "LRmptQVwcKhs",
        "outputId": "b9d1c5fc-92c4-4bf6-c9f2-361da4825d91",
        "vscode": {
          "languageId": "r"
        }
      },
      "outputs": [
        {
          "data": {
            "text/html": [
              "<table class=\"dataframe\">\n",
              "<caption>A data.frame: 3 × 4</caption>\n",
              "<thead>\n",
              "\t<tr><th scope=col>Método</th><th scope=col>Media</th><th scope=col>Varianza</th><th scope=col>Error</th></tr>\n",
              "\t<tr><th scope=col>&lt;chr&gt;</th><th scope=col>&lt;dbl&gt;</th><th scope=col>&lt;dbl&gt;</th><th scope=col>&lt;dbl&gt;</th></tr>\n",
              "</thead>\n",
              "<tbody>\n",
              "\t<tr><td>Real               </td><td>3.333333</td><td>         NA</td><td>         NA</td></tr>\n",
              "\t<tr><td>Montecarlo estandar</td><td>3.337709</td><td>0.364853252</td><td>0.038202264</td></tr>\n",
              "\t<tr><td>Antitéticas        </td><td>3.328562</td><td>0.005591267</td><td>0.001653245</td></tr>\n",
              "</tbody>\n",
              "</table>\n"
            ],
            "text/latex": [
              "A data.frame: 3 × 4\n",
              "\\begin{tabular}{llll}\n",
              " Método & Media & Varianza & Error\\\\\n",
              " <chr> & <dbl> & <dbl> & <dbl>\\\\\n",
              "\\hline\n",
              "\t Real                & 3.333333 &          NA &          NA\\\\\n",
              "\t Montecarlo estandar & 3.337709 & 0.364853252 & 0.038202264\\\\\n",
              "\t Antitéticas         & 3.328562 & 0.005591267 & 0.001653245\\\\\n",
              "\\end{tabular}\n"
            ],
            "text/markdown": [
              "\n",
              "A data.frame: 3 × 4\n",
              "\n",
              "| Método &lt;chr&gt; | Media &lt;dbl&gt; | Varianza &lt;dbl&gt; | Error &lt;dbl&gt; |\n",
              "|---|---|---|---|\n",
              "| Real                | 3.333333 |          NA |          NA |\n",
              "| Montecarlo estandar | 3.337709 | 0.364853252 | 0.038202264 |\n",
              "| Antitéticas         | 3.328562 | 0.005591267 | 0.001653245 |\n",
              "\n"
            ],
            "text/plain": [
              "  Método              Media    Varianza    Error      \n",
              "1 Real                3.333333          NA          NA\n",
              "2 Montecarlo estandar 3.337709 0.364853252 0.038202264\n",
              "3 Antitéticas         3.328562 0.005591267 0.001653245"
            ]
          },
          "metadata": {},
          "output_type": "display_data"
        }
      ],
      "source": [
        "data.frame(\n",
        "  Método = c(\"Real\", \"Montecarlo estandar\", \"Antitéticas\"),\n",
        "  Media = c(i_numeric, res_montecarlo_no_mon$media, media_anti_no_mono),\n",
        "  Varianza = c(NA, res_montecarlo_no_mon$varianza, varianza_anti_no_mono),\n",
        "  Error = c(NA, res_montecarlo_no_mon$error, error_anti_no_mono)\n",
        ")"
      ]
    },
    {
      "cell_type": "markdown",
      "metadata": {
        "id": "uWbOmktw4rW3"
      },
      "source": [
        "---\n",
        "\n",
        "# Muestreo estratificado"
      ]
    },
    {
      "cell_type": "markdown",
      "metadata": {
        "id": "FtSbyIOO4rW3"
      },
      "source": [
        "En ocasiones, cuando analizamos una muestra de la población de interés, ésta exhibe una heterogeneidad o diversidad significativa en relación con las variables de interés. En estos casos, el muestreo aleatorio simple puede no ser eficiente para obtener estimaciones precisas de la población y se pueden dar los siguientes problemas como una elevada varianza y poca precisión, alto sesgo en las estimaciones, riesgo de no representatividad, menor eficiencia de recursos o la falta de control sobre la precisión por estrato.\n",
        "\n",
        "El muestreo estratificado, en cambio, aborda estos problemas al dividir la población en estratos homogéneos, permitiendo un muestreo más eficiente y representativo de cada subgrupo. Al asignar tamaños de muestra proporcionales a la variabilidad dentro de cada estrato, se consigue una mayor precisión en las estimaciones para toda la población. Además de esto, podemos estimar parámetros de cada uno de los estratos de forma separada dado que cada estrato es una submuestra, lo que nos da una información adicional para enriquecer el análisis de la población general o bien, para realizar inferencias sobre subgrupos."
      ]
    },
    {
      "cell_type": "markdown",
      "metadata": {
        "id": "S7DvSoCI4rW3"
      },
      "source": [
        "## Procedimiento general"
      ]
    },
    {
      "cell_type": "markdown",
      "metadata": {
        "id": "Ej9c_9le4rW3"
      },
      "source": [
        "1. Se divide o segmenta la población completa a analizar en subgrupos o estratos. Los estratos comparten características similares en relación a la variable de interés. La elección de los criterios de estratificación es crucial para asegurar que los estratos sean homogéneos internamente y heterogéneos entre sí. En los próximos apartados comentaremos distintas técnicas de estratificación.\n",
        "\n",
        "2. Se selecciona una muestra aleatoria simple por cada uno de los estratos.\n",
        "\n",
        "3. Se calcula el estadístico de interés para la muestra de cada estrato. Las medidas por estrato se ponderan para formar una estimación combinada de la población completa."
      ]
    },
    {
      "cell_type": "markdown",
      "metadata": {
        "id": "VXMblkz04rW4"
      },
      "source": [
        "## Diseño muestral"
      ]
    },
    {
      "cell_type": "markdown",
      "metadata": {
        "id": "4hvo7Z0f4rW4"
      },
      "source": [
        "La técnica de muestreo estratificado se aplica en problemas de análisis estadístico sobre una muestra de la población $U$ de tamaño $N$.\n",
        "\n",
        "La muestra se divide en $L$ subgrupos o *estratos* $U_1, \\dots, U_L$ cada uno de ellos con $N_1, \\dots, N_L$ observaciones tales que:\n",
        "\n",
        "$$\n",
        "\\sum^L_{h=1} N_h = N\n",
        "$$\n",
        "\n",
        "Este proceso de división en estratos se denomina *estratificación*.\n",
        "\n",
        "Denominamos *ponderación* o *peso* del estrato *h-ésimo* al cociente:\n",
        "\n",
        "$$\n",
        "W_h = \\frac{N_h}{N}\n",
        "$$\n",
        "\n",
        "para todo $h = 1, \\dots, L$, teniendo que:\n",
        "\n",
        "$$\n",
        "\\sum^L_{h=1} W_h = 1\n",
        "$$\n",
        "\n",
        "Para cada estrato se toma una muestra $s_h$ de tamaño $n_h$ formada por elementos de $U_h$, así para cada estrato *h* se tiene el diseño muestral $(S_h, P_h(·))$, donde *S* es el espacio muestral:\n",
        "\n",
        "$$\n",
        "S = S_1 \\times S_2 x \\times x S_L\n",
        "$$\n",
        "\n",
        "y\n",
        "\n",
        "$$\n",
        "s = (s_1, s_2, \\dots, s_h) \\; \\; \\forall s \\in S\n",
        "$$\n",
        "\n",
        "Se denomina *fracción de muestreo* o *tasa de muestreo* del estrato *h-ésimo* al cociente:\n",
        "\n",
        "$$\n",
        "f_h = \\frac{n_h}{N_h}\n",
        "$$"
      ]
    },
    {
      "cell_type": "markdown",
      "metadata": {
        "id": "2UABp-_A4rW4"
      },
      "source": [
        "### Tipos de muestreo estratificado"
      ]
    },
    {
      "cell_type": "markdown",
      "metadata": {
        "id": "P7xJofQz4rW4"
      },
      "source": [
        "El muestreo estratificado es una técnica muy importante en la investigación de muestras que se utiliza para mejorar la eficiencia y precisión de las estimaciones poblacionales al considerar la heterogeneidad presente en una población. En lugar de tratar a la población como un todo, el muestreo estratificado divide la población en subgrupos más homogéneos llamados estratos, de acuerdo con ciertas características relevantes.\n",
        "\n",
        "Los diferentes métodos para definir los estratos (afijaciones) y para seleccionar las unidades de muestra dentro de cada estrato dan lugar a distintos tipos de muestreo estratificado.\n",
        "\n",
        "* Muestreo estratificado aleatorio.\n",
        "* Muestreo estratificado proporcional.\n",
        "* Muestreo estratificado óptimo.\n",
        "\n",
        "Nosotros nos centraremos en el muestreo aleatorio estratificado, esto es, dentro de cada estrato la elección de los elementos de la muestra se realiza de manera aleatoria. Por otro lado, se analizarán distintas formas de definir los estratos y cómo influye esto en los estimadores."
      ]
    },
    {
      "cell_type": "markdown",
      "metadata": {
        "id": "dkv6VuYi4rW4"
      },
      "source": [
        "### Estimadores en el muestreo aleatorio estratificado"
      ]
    },
    {
      "cell_type": "markdown",
      "metadata": {
        "id": "YrM8odRe4rW4"
      },
      "source": [
        "**Estimadores para los estratos**\n",
        "\n",
        "La relación entre la media de la población y la media de los estratos se define como:\n",
        "\n",
        "$$\n",
        "\\bar X = \\sum_{h=1}^L W_h \\bar X_h\n",
        "$$\n",
        "\n",
        "donde:\n",
        "\n",
        "* $\\bar X$: Es la media del total de la muestra.\n",
        "  \n",
        "* $\\sum_{h=1}^{L}$: Es la suma sobre el total de estratos.\n",
        "* $W_h$: Son los pesos muestrales para cada estrato.\n",
        "* $\\bar X_h$: Es la media muestral para cada estrato.\n",
        "\n",
        "Por otro lado, a partir del estimador Horvitz-Tompson de $\\bar X_h$ se tiene:\n",
        "\n",
        "$$\n",
        "\\hat{\\bar X}_h = \\frac{1}{n_h} \\sum_{k \\in s_h} X_k\n",
        "$$\n",
        "\n",
        "donde:\n",
        "\n",
        "* $\\hat{\\bar{X}}_h$: Es el estimador de la media muestral para el estrato $h$.\n",
        "* $\\frac{1}{n_h}$: Es la razón empleada para normalizar el estrato.\n",
        "* $\\sum_{k \\in S_h}$: Es la suma sobre el total de observaciones del estrato.\n",
        "* $X_k$: Es la observación $k$ dentro del estrato $h$.\n",
        "\n",
        "El estimador de la varianza será por tanto:\n",
        "\n",
        "$$\n",
        "\\hat{V}(\\bar X_h) = \\frac{1 - f_h}{n_h} \\hat{S}_h^2\n",
        "$$\n",
        "\n",
        "donde la cuasivarianza muestral es:\n",
        "\n",
        "$$\n",
        "\\hat{S}_h^2 = \\frac{1}{n_h - 1} \\sum_{k \\in s_h} (X_k - \\hat{\\bar{X}}_h)^2\n",
        "$$"
      ]
    },
    {
      "cell_type": "markdown",
      "metadata": {
        "id": "iEMO1j0e4rW4"
      },
      "source": [
        "**Estimadores de la muestra completa**\n",
        "\n",
        "El estimador de la media global de la muestra se define como:\n",
        "\n",
        "$$\n",
        "\\hat{\\bar{X}} = \\sum_{h=1}^L W_h \\hat{\\bar{X}}_h = \\sum_{h=1}^L \\frac{N_h}{N} \\hat{\\bar{X}}_h\n",
        "$$\n",
        "\n",
        "El estimador de la varianza global de la muestra sería:\n",
        "\n",
        "$$\n",
        "\\hat{V}(\\hat{\\bar{X}}) = \\frac{1}{N^2} \\left[ \\sum_{h=1}^L \\frac{N_h^2 \\hat{S}^2_h}{n_h} - \\sum_{h=1}^L N_h \\hat{S}^2_h \\right]\n",
        "$$"
      ]
    },
    {
      "cell_type": "markdown",
      "metadata": {
        "id": "LEvE93ln4rW4"
      },
      "source": [
        "## Tamaño muestral"
      ]
    },
    {
      "cell_type": "markdown",
      "metadata": {
        "id": "5K5ai4_w4rW5"
      },
      "source": [
        "El tamaño de la muestra es crucial para que los resultados inferidos a partir de la misma se puedan extrapolar a la población. Para que esto sea así, la muestra debe ser representativa y suficiente. Normalmente el tamaño muestral se determina principalmente por el nivel de confianza que se desea tener para la estimación de los parámetros de interés para la población a partir de la muestra.\n",
        "\n",
        "Cuando conocemos el valor real (o aproximado) de la población total, se puede emplear la fórmula para una población finita. Aquí el tamaño de la muestra se calcula utilizando la fórmula de corrección finita:\n",
        "\n",
        "$$\n",
        "n = \\frac{{Z_{\\alpha}^2 \\cdot p \\cdot (1-p) \\cdot N}}{{E^2 \\cdot (N-1) + Z_{\\alpha}^2 \\cdot p \\cdot (1-p)}}\n",
        "$$\n",
        "\n",
        "En la vida real es normal que para decidir el tamaño de la muestra se tengan en cuenta también consideraciones prácticas, como el costo, el tiempo y los recursos disponibles."
      ]
    },
    {
      "cell_type": "markdown",
      "metadata": {
        "id": "EOCScFfz4rW5"
      },
      "source": [
        "## Afijación muestral"
      ]
    },
    {
      "cell_type": "markdown",
      "metadata": {
        "id": "VPn-dkrp4rW5"
      },
      "source": [
        "La afijación muestral es el proceso de asignación de muestras entre los estratos definidos dentro del muestreo estratificado. Aquí los $n$ elementos de la muestra se deben distribuir entre los $L$ estratos atendiendo principalmente por los siguientes factores:\n",
        "\n",
        "* El peso muestral $W_h$.\n",
        "* La variabilidad de la variable de estudio para cada estrato $S_h^2$.\n",
        "* Los costes $c_h$ asociados al muestreo de un elemento para el estrato $h$.\n",
        "\n",
        "En los siguientes puntos se describen distintos tipos de afijaciones en función de estos factores."
      ]
    },
    {
      "cell_type": "markdown",
      "metadata": {
        "id": "b54D8gAJ4rW5"
      },
      "source": [
        "### Afijación uniforme"
      ]
    },
    {
      "cell_type": "markdown",
      "metadata": {
        "id": "wVRn2Fu84rW5"
      },
      "source": [
        "La afijación uniforme es la más simple de todas, en ella se asigna el mismo número de elementos $r$ a cada estrato:\n",
        "\n",
        "$$\n",
        "n_h = r = \\frac{n}{L} \\; \\; \\forall h = 1, \\dots, L\n",
        "$$\n",
        "\n",
        "donde la fracción de muestreo sería:\n",
        "\n",
        "$$\n",
        "f_h = \\frac{n_h}{N_h}=\\frac{r}{N_h}\n",
        "$$\n",
        "\n",
        "En la práctica $r$ se aproxima al entero más cercano y se ajusta el tamaño de cada estrato para que el total sea el fijado inicialmente."
      ]
    },
    {
      "cell_type": "markdown",
      "metadata": {
        "id": "RDFLNVpX4rW5"
      },
      "source": [
        "### Afijación proporcional"
      ]
    },
    {
      "cell_type": "markdown",
      "metadata": {
        "id": "Vdc2c4yS4rW5"
      },
      "source": [
        "Aquí el tamaño para cada estrato de la muestra es proporcional al tamaño del estrato para toda la población. Obviamente, esto hace necesario conocer esa proporción en la población para poder aplicar esta afijación. Poniendo esto en relación con la fracción de muestreo:\n",
        "\n",
        "$$\n",
        "\\frac{n_h}{N_h} = \\frac{n}{N} \\rightarrow f_h = f \\; \\; \\forall h = 1, \\dots, L\n",
        "$$\n",
        "\n",
        "Los pesos muestrales serían:\n",
        "\n",
        "$$\n",
        "W_h = \\frac{n_h}{n} = \\frac{N_h}{N}\n",
        "$$"
      ]
    },
    {
      "cell_type": "markdown",
      "metadata": {
        "id": "yK41myTO4rW5"
      },
      "source": [
        "### Afijación óptima"
      ]
    },
    {
      "cell_type": "markdown",
      "metadata": {
        "id": "mMWrinUL4rW6"
      },
      "source": [
        "La afijación óptima da más peso a los estratos más heterogéneos (a mayor $S_h^2$, mayor asignación de elementos en la muestra). Esto implica que es necesario conocer o estimar la varianza de la variable de interés para cada estrato. Esta estrategia de afijación permite emplear el coste de muestreo por elemento para cada estrato de forma independiente como restricción dentro del proceso de optimización. La función de coste se define como:\n",
        "\n",
        "En la afijación óptima, se asignan más elementos a un estrato si:\n",
        "\n",
        "* El estrato es más grande en proporción dentro de la población.\n",
        "* La variabilidad del estrato es mayor.\n",
        "* El coste por muestra del estrato es más barato."
      ]
    },
    {
      "cell_type": "markdown",
      "metadata": {
        "id": "COjNH2zi4rW6"
      },
      "source": [
        "### Afijación de Neyman"
      ]
    },
    {
      "cell_type": "markdown",
      "metadata": {
        "id": "BNLIXh1d4rW6"
      },
      "source": [
        "La afijación de Neyman es un caso particular de la afijación óptima, donde se asume que los costes de observación para todos los estratos son iguales."
      ]
    },
    {
      "cell_type": "markdown",
      "metadata": {
        "id": "E5FvpsQn4rW6"
      },
      "source": [
        "## Muestreo estratificado con R"
      ]
    },
    {
      "cell_type": "markdown",
      "metadata": {
        "id": "B1LKjfmw4rW6"
      },
      "source": [
        "Se analizarán a continuación las capacidades de muestreo básico que ofrece el lenguaje base R.\n",
        "\n",
        "Antes de nada configuraremos el entorno cargando las librerías e inicializando la semilla aleatoria para garantizar la reproducibilidad de los resultados.\n",
        "Establecemos también el ancho y alto para las gráficas a generar."
      ]
    },
    {
      "cell_type": "code",
      "execution_count": null,
      "metadata": {
        "vscode": {
          "languageId": "r"
        },
        "id": "MDbaF3Zl4rW6"
      },
      "outputs": [],
      "source": [
        "set.seed(555)"
      ]
    },
    {
      "cell_type": "code",
      "execution_count": null,
      "metadata": {
        "vscode": {
          "languageId": "r"
        },
        "id": "0yhqItHz4rW6"
      },
      "outputs": [],
      "source": [
        "options(warn=-1)\n",
        "options(repr.plot.width = 18, repr.plot.height = 6)"
      ]
    },
    {
      "cell_type": "markdown",
      "metadata": {
        "id": "VcnxaERY4rW6"
      },
      "source": [
        "Definimos una función para graficar los histogramas de las muestras con las medias estimadas y los intervalos de confianza para cada afijación (NOTA: a efectos de mejorar la visualización de los valores de interés, el histograma sólo cubrirá el rango [0, 10] para el eje X, o número de personas que habitan una vivienda)."
      ]
    },
    {
      "cell_type": "code",
      "execution_count": null,
      "metadata": {
        "vscode": {
          "languageId": "r"
        },
        "id": "qwVnJ2rL4rW6"
      },
      "outputs": [],
      "source": [
        "hist_muestreo <- function(muestra, IC, mediaPoblacion, titulo) {\n",
        "  tamhog <- muestra$TamHog\n",
        "  df <- data.frame(tamhog, group = \"Muestra\")\n",
        "\n",
        "  ggplot(df, aes(x = tamhog, fill = group)) +\n",
        "    geom_histogram(alpha = 0.5, breaks = seq(min(tamhog), 10), color = \"black\") +\n",
        "    geom_vline(aes(xintercept = IC[2], color = \"Límite inferior\"), linetype = \"dashed\") +\n",
        "    geom_vline(aes(xintercept = IC[1], color = \"Media estimada\"), linetype = \"dashed\") +\n",
        "    geom_vline(aes(xintercept = mediaPoblacion, color = \"Media poblacional\")) +\n",
        "    geom_vline(aes(xintercept = IC[3], color = \"Límite superior\"), linetype = \"dashed\") +\n",
        "    labs(title = titulo, x = \"# Personas\", y = \"Frecuencia\", fill = \"Grupo\") +\n",
        "    theme_minimal() +\n",
        "    scale_fill_manual(values = alpha(\"blue\", 0.5), name = \"Grupo\") +\n",
        "    scale_color_manual(values = c(\"Límite inferior\" = \"red\", \"Media estimada\" = \"green\",\n",
        "      \"Media poblacional\" = \"black\", \"Límite superior\" = \"red\"), name = \"Leyenda\") +\n",
        "    guides(fill = guide_legend(title = NULL)) +\n",
        "    scale_x_continuous(breaks = seq(min(tamhog), 10, by = 1))\n",
        "}"
      ]
    },
    {
      "cell_type": "markdown",
      "metadata": {
        "id": "oOeBttyj4rW7"
      },
      "source": [
        "La función *sys.sample* del paquete *SamplingUtil* permite la realización de muestreo sistemático."
      ]
    },
    {
      "cell_type": "markdown",
      "metadata": {
        "id": "0pjinH8S4rW7"
      },
      "source": [
        "A continuación veremos algunos ejemplos de cálculo de tamaño muestral a partir de un porcentaje de error relativo y un nivel de confianza dados. Para ello, haremos uso de la función *nsize()* del paquete *SamplingUtil*.\n",
        "\n",
        "Pasamos a emplear el dataset ENAHO 2013, que contiene información de una encuesta nacional sobre condiciones de vida y pobreza, realizada por el gobierno de Perú en ese año (https://www.ilo.org/surveyLib/index.php/catalog/7235/related-materials).\n",
        "\n",
        "La variable de estudio será la cantidad de personas en el hogar (*TamHog*) y se crea una variable (*phu*) que indica si habita una sóla persona (valores 1 ó 0), para calcular la proporción de hogares unipersonales que será empleada más adelante para la afijación proporcional."
      ]
    },
    {
      "cell_type": "code",
      "execution_count": null,
      "metadata": {
        "vscode": {
          "languageId": "r"
        },
        "id": "Ta4efvXJ4rW7",
        "outputId": "54d846e2-1035-49bc-d774-88c3a6ac4906"
      },
      "outputs": [
        {
          "name": "stderr",
          "output_type": "stream",
          "text": [
            "\u001b[1m\u001b[22m`summarise()` has grouped output by 'SEGMENTO', 'CUESTIONARIO', 'HOGAR'. You\n",
            "can override using the `.groups` argument.\n"
          ]
        }
      ],
      "source": [
        "# Creamos un dataframe con datos extraídos de ENAHO 2013\n",
        "df<- ENAHO2013 %>%  # Creamos un nuevo data frame\n",
        "  mutate(TamHog=as.numeric(TamHog), # Se convierte TamHog a numérica\n",
        "         phu=ifelse(TamHog>1,0,1)) %>% # Se crea variable de prop Hog. Unipersonales\n",
        "  select(FACTOR:ZONA,TamHog,phu,-REGION) %>% # Se toman sólo las variables de interés\n",
        "  group_by(SEGMENTO,CUESTIONARIO,HOGAR,ZONA) %>% # Se genera esquema de agrupación\n",
        "  summarise(TamHog=mean(TamHog), # Se calculan variables sumarizadas.\n",
        "            phu=mean(phu)) %>%\n",
        "  mutate(id=paste0(SEGMENTO,CUESTIONARIO,HOGAR,ZONA)) # Se genera id único para uso posterior"
      ]
    },
    {
      "cell_type": "markdown",
      "metadata": {
        "id": "tPY5THH64rW7"
      },
      "source": [
        "### Cálculo del tamaño de la muestra"
      ]
    },
    {
      "cell_type": "markdown",
      "metadata": {
        "id": "3wjdotCJ4rW7"
      },
      "source": [
        "Calculemos cuál debe ser el tamaño mínimo de la muestra para que el error relativo no supere el 5% con un nivel de confianza del 95% para la variable para el número de habitantes por vivienda."
      ]
    },
    {
      "cell_type": "code",
      "execution_count": null,
      "metadata": {
        "vscode": {
          "languageId": "r"
        },
        "id": "AaenoQIN4rW7",
        "outputId": "ea1d7e9b-39c5-4f35-9640-c89e7d1c589e"
      },
      "outputs": [
        {
          "data": {
            "text/html": [
              "<dl>\n",
              "\t<dt>$n0</dt>\n",
              "\t\t<dd>782</dd>\n",
              "\t<dt>$n_adjust</dt>\n",
              "\t\t<dd>731</dd>\n",
              "</dl>\n"
            ],
            "text/latex": [
              "\\begin{description}\n",
              "\\item[\\$n0] 782\n",
              "\\item[\\$n\\_adjust] 731\n",
              "\\end{description}\n"
            ],
            "text/markdown": [
              "$n0\n",
              ":   782\n",
              "$n_adjust\n",
              ":   731\n",
              "\n",
              "\n"
            ],
            "text/plain": [
              "$n0\n",
              "[1] 782\n",
              "\n",
              "$n_adjust\n",
              "[1] 731\n"
            ]
          },
          "metadata": {},
          "output_type": "display_data"
        }
      ],
      "source": [
        "# Se calcula el tamaño de muestra a partir del error relativo y\n",
        "# la confianza de 95%\n",
        "r <- 0.05\n",
        "confianza <- 0.95\n",
        "alpha <- 1 - confianza\n",
        "nsizeR<- nsize(x=df$TamHog, r=r, alpha=alpha)\n",
        "nsizeR"
      ]
    },
    {
      "cell_type": "markdown",
      "metadata": {
        "id": "JhKuAPhw4rW7"
      },
      "source": [
        "Podemos ver que el tamaño para la muestra obtenido es de 731 individuos (nos quedamos con el valor ajustado)."
      ]
    },
    {
      "cell_type": "markdown",
      "metadata": {
        "id": "6C4FzBQA4rW7"
      },
      "source": [
        "### Distribución de la muestra en estratos"
      ]
    },
    {
      "cell_type": "markdown",
      "metadata": {
        "id": "_nZ8GRYn4rW8"
      },
      "source": [
        "**Afijaciones**\n",
        "\n",
        "Ahora aplicaremos distintas afijaciones para distribuir los elementos de la muestra obtenidos entre los estratos: proporcional, óptima y de Neyman. Para la óptima se considerará un coste de 5 para el muestreo de un individuo en el estrato urbano y 10 para el muestreo de un individuo en el estrato rural."
      ]
    },
    {
      "cell_type": "code",
      "execution_count": null,
      "metadata": {
        "vscode": {
          "languageId": "r"
        },
        "id": "ONDtIi2u4rW8"
      },
      "outputs": [],
      "source": [
        "# Calculamos las proporciones por estrato de la población\n",
        "Estratos <- data.frame(df) %>%\n",
        "  select(ZONA, TamHog) %>%\n",
        "  group_by(ZONA) %>%\n",
        "  summarise(n=n(),\n",
        "    s=sd(TamHog)) %>%\n",
        "  mutate(p=n/sum(n))"
      ]
    },
    {
      "cell_type": "code",
      "execution_count": null,
      "metadata": {
        "vscode": {
          "languageId": "r"
        },
        "id": "KCEdQdOv4rW8"
      },
      "outputs": [],
      "source": [
        "# Asignamos la muestra proporcional a los estratos con afijación proporcional\n",
        "nsizeProp <- nstrata(n=nsizeR[[2]], wh=Estratos[,4], method=\"proportional\")\n",
        "# Afijación óptima de la muestra\n",
        "ch <- c(5, 10)\n",
        "nsizeOpt <- nstrata(n=nsizeR[[2]], wh=Estratos[,4], sh=Estratos[,3], ch, method=\"optimal\")\n",
        "# Afijación de Neyman\n",
        "nsizeNeyman <- nstrata(n=nsizeR[[2]], wh=Estratos[,4], sh=Estratos[,3], method=\"neyman\")\n"
      ]
    },
    {
      "cell_type": "code",
      "execution_count": null,
      "metadata": {
        "vscode": {
          "languageId": "r"
        },
        "id": "vpF0oa0J4rW8",
        "outputId": "fe19f53a-b6d3-4584-8d8a-a777a8f2a728"
      },
      "outputs": [
        {
          "data": {
            "text/html": [
              "<table class=\"dataframe\">\n",
              "<caption>A data.frame: 2 × 3</caption>\n",
              "<thead>\n",
              "\t<tr><th></th><th scope=col>Proporcional</th><th scope=col>Óptima</th><th scope=col>Neyman</th></tr>\n",
              "\t<tr><th></th><th scope=col>&lt;dbl&gt;</th><th scope=col>&lt;dbl&gt;</th><th scope=col>&lt;dbl&gt;</th></tr>\n",
              "</thead>\n",
              "<tbody>\n",
              "\t<tr><th scope=row>Urbano</th><td>313</td><td>461</td><td>400</td></tr>\n",
              "\t<tr><th scope=row>Rural</th><td>419</td><td>271</td><td>332</td></tr>\n",
              "</tbody>\n",
              "</table>\n"
            ],
            "text/latex": [
              "A data.frame: 2 × 3\n",
              "\\begin{tabular}{r|lll}\n",
              "  & Proporcional & Óptima & Neyman\\\\\n",
              "  & <dbl> & <dbl> & <dbl>\\\\\n",
              "\\hline\n",
              "\tUrbano & 313 & 461 & 400\\\\\n",
              "\tRural & 419 & 271 & 332\\\\\n",
              "\\end{tabular}\n"
            ],
            "text/markdown": [
              "\n",
              "A data.frame: 2 × 3\n",
              "\n",
              "| <!--/--> | Proporcional &lt;dbl&gt; | Óptima &lt;dbl&gt; | Neyman &lt;dbl&gt; |\n",
              "|---|---|---|---|\n",
              "| Urbano | 313 | 461 | 400 |\n",
              "| Rural | 419 | 271 | 332 |\n",
              "\n"
            ],
            "text/plain": [
              "       Proporcional Óptima Neyman\n",
              "Urbano 313          461    400   \n",
              "Rural  419          271    332   "
            ]
          },
          "metadata": {},
          "output_type": "display_data"
        }
      ],
      "source": [
        "salida <- cbind( nsizeProp, nsizeOpt, nsizeNeyman)\n",
        "colnames(salida) <- c( \"Proporcional\", \"Óptima\", \"Neyman\")\n",
        "rownames(salida) <- c(\"Urbano\", \"Rural\")\n",
        "salida"
      ]
    },
    {
      "cell_type": "markdown",
      "metadata": {
        "id": "-HOt2Kso4rW8"
      },
      "source": [
        "En la tabla podemos ver cómo quedarían distribuidos los elementos de la muestra atendiendo a cada tipo de afijación."
      ]
    },
    {
      "cell_type": "markdown",
      "metadata": {
        "id": "XypuwBOm4rW8"
      },
      "source": [
        "### Intervalos de confianza"
      ]
    },
    {
      "cell_type": "markdown",
      "metadata": {
        "id": "_hOjQrg54rW8"
      },
      "source": [
        "Para la obtención de los intervalos de confianza emplearemos el paquete *DescTools*. Calcularemos el intervalo de confianza para la media del tamaño del hogar (nº de personas en la vivienda) empleando el tamaño muestral obtenido anteriormente, con un nivel de confianza del 95%.\n",
        "\n",
        "Antes de nada obtenemos la media del total de la población para calcular las desviaciones para cada afijación y luego generamos las muestras para cada afijación atendiendo al número de elementos obtenidos anteriormente.\n",
        "\n",
        "A partir de ahí obtenemos una estimación para el valor medio del campo TamHog para cada afijación y calculamos sus intervalos de confianza."
      ]
    },
    {
      "cell_type": "code",
      "execution_count": null,
      "metadata": {
        "vscode": {
          "languageId": "r"
        },
        "id": "6a1nQud34rW8"
      },
      "outputs": [],
      "source": [
        "# Generamos un dataframe para la muestra\n",
        "muestra <- data.frame(df) %>%\n",
        "  slice_sample(n=nsizeR[[2]], replace=FALSE)"
      ]
    },
    {
      "cell_type": "code",
      "execution_count": null,
      "metadata": {
        "vscode": {
          "languageId": "r"
        },
        "id": "Nhy6lOJ-4rW9"
      },
      "outputs": [],
      "source": [
        "# Media del total de la población\n",
        "mediaPoblacion <- mean(df$TamHog)"
      ]
    },
    {
      "cell_type": "code",
      "execution_count": null,
      "metadata": {
        "vscode": {
          "languageId": "r"
        },
        "id": "MxGYw-QM4rW9"
      },
      "outputs": [],
      "source": [
        "# Generamos un dataframe para la muestra en muestreo aleatorio simple\n",
        "muestra <- data.frame(df) %>%\n",
        "  slice_sample(n=nsizeR[[2]], replace=FALSE)\n",
        "ICTamHog <- MeanCI(x=muestra$TamHog, trim=0, conf.level=confianza, na.rm=FALSE)\n",
        "# Diferencia relativa MAS\n",
        "difR <- paste0(abs(round((ICTamHog[1] - mediaPoblacion) / mediaPoblacion, 3))*100,\"%\")"
      ]
    },
    {
      "cell_type": "code",
      "execution_count": null,
      "metadata": {
        "vscode": {
          "languageId": "r"
        },
        "id": "-_vo22kW4rW9"
      },
      "outputs": [],
      "source": [
        "# Generamos un dataframe para la muestra empleando la afijación proporcional\n",
        "muestraUrbana1 <- data.frame(df) %>%\n",
        "  filter(ZONA == \"Urbana\") %>%\n",
        "  slice_sample(n=nsizeProp[[1]][1], replace=FALSE)\n",
        "muestraRural1 <- data.frame(df) %>%\n",
        "  filter(ZONA == \"Rural\") %>%\n",
        "  slice_sample(n=nsizeProp[[1]][2], replace=FALSE)\n",
        "muestraProp <- rbind(muestraUrbana1, muestraRural1)\n",
        "ICProp <- MeanCI(x=muestraProp$TamHog, trim=0, conf.level=confianza, na.rm=FALSE)\n",
        "# Diferencia relativa estratificación proporcional\n",
        "difRProp <- paste0(abs(round((ICProp[1] - mediaPoblacion) / mediaPoblacion, 3))*100,\"%\")"
      ]
    },
    {
      "cell_type": "code",
      "execution_count": null,
      "metadata": {
        "vscode": {
          "languageId": "r"
        },
        "id": "kvfZNHLE4rW9"
      },
      "outputs": [],
      "source": [
        "# Generamos un dataframe para la muestra empleando la afijación óptima\n",
        "muestraUrbana2 <- data.frame(df) %>%\n",
        "  filter(ZONA == \"Urbana\") %>%\n",
        "  slice_sample(n=nsizeOpt[[1]][1], replace=FALSE)\n",
        "muestraRural2 <- data.frame(df) %>%\n",
        "  filter(ZONA == \"Rural\") %>%\n",
        "  slice_sample(n=nsizeOpt[[1]][2], replace=FALSE)\n",
        "muestraOpt <- rbind(muestraUrbana2, muestraRural2)\n",
        "ICOpt <- MeanCI(x=muestraOpt$TamHog, trim=0, conf.level=confianza, na.rm=FALSE)\n",
        "# Diferencia relativa estratificación óptima\n",
        "difROpt <- paste0(abs(round((ICOpt[1] - mediaPoblacion) / mediaPoblacion, 3))*100,\"%\")"
      ]
    },
    {
      "cell_type": "code",
      "execution_count": null,
      "metadata": {
        "vscode": {
          "languageId": "r"
        },
        "id": "QBGWQ6pm4rW9"
      },
      "outputs": [],
      "source": [
        "# Generamos un dataframe para la muestra empleando la afijación de Neyman\n",
        "muestraUrbana3 <- data.frame(df) %>%\n",
        "  filter(ZONA == \"Urbana\") %>%\n",
        "  slice_sample(n=nsizeNeyman[[1]][1], replace=FALSE)\n",
        "muestraRural3 <- data.frame(df) %>%\n",
        "  filter(ZONA == \"Rural\") %>%\n",
        "  slice_sample(n=nsizeNeyman[[1]][2], replace=FALSE)\n",
        "muestraNeyman <- rbind(muestraUrbana3, muestraRural3)\n",
        "ICNeyman <- MeanCI(x=muestraNeyman$TamHog, trim=0, conf.level=confianza, na.rm=FALSE)\n",
        "# Diferencia relativa estratificación Neyman\n",
        "difRNeyman<- paste0(abs(round((ICNeyman[1] - mediaPoblacion) / mediaPoblacion, 3))*100,\"%\")"
      ]
    },
    {
      "cell_type": "markdown",
      "metadata": {
        "id": "y3oFEuhP4rW9"
      },
      "source": [
        "El indicador que nos permite saber cómo de fiable es una estimación viene dado por los intervalos de confianza.\n",
        "\n",
        "Vamos a generar una gráfica para comparar los que hemos obtenido hasta el momento."
      ]
    },
    {
      "cell_type": "code",
      "execution_count": null,
      "metadata": {
        "vscode": {
          "languageId": "r"
        },
        "id": "L3ZhiNuN4rW9",
        "outputId": "ae4e52a2-4c13-44ad-aaf1-0f14715e5341"
      },
      "outputs": [
        {
          "name": "stdout",
          "output_type": "stream",
          "text": [
            "[1] \"La media para la población es de  3.5471  personas por casa\"\n"
          ]
        },
        {
          "data": {
            "text/html": [
              "<table class=\"dataframe\">\n",
              "<caption>A matrix: 3 × 4 of type dbl</caption>\n",
              "<thead>\n",
              "\t<tr><th></th><th scope=col>MAS</th><th scope=col>Proporcional</th><th scope=col>Óptima</th><th scope=col>Neyman</th></tr>\n",
              "</thead>\n",
              "<tbody>\n",
              "\t<tr><th scope=row>Media</th><td>3.528044</td><td>3.538934</td><td>3.615437</td><td>3.452368</td></tr>\n",
              "\t<tr><th scope=row>L. inferior</th><td>3.359948</td><td>3.366550</td><td>3.379734</td><td>3.303421</td></tr>\n",
              "\t<tr><th scope=row>L. superior</th><td>3.696140</td><td>3.711319</td><td>3.851140</td><td>3.601315</td></tr>\n",
              "</tbody>\n",
              "</table>\n"
            ],
            "text/latex": [
              "A matrix: 3 × 4 of type dbl\n",
              "\\begin{tabular}{r|llll}\n",
              "  & MAS & Proporcional & Óptima & Neyman\\\\\n",
              "\\hline\n",
              "\tMedia & 3.528044 & 3.538934 & 3.615437 & 3.452368\\\\\n",
              "\tL. inferior & 3.359948 & 3.366550 & 3.379734 & 3.303421\\\\\n",
              "\tL. superior & 3.696140 & 3.711319 & 3.851140 & 3.601315\\\\\n",
              "\\end{tabular}\n"
            ],
            "text/markdown": [
              "\n",
              "A matrix: 3 × 4 of type dbl\n",
              "\n",
              "| <!--/--> | MAS | Proporcional | Óptima | Neyman |\n",
              "|---|---|---|---|---|\n",
              "| Media | 3.528044 | 3.538934 | 3.615437 | 3.452368 |\n",
              "| L. inferior | 3.359948 | 3.366550 | 3.379734 | 3.303421 |\n",
              "| L. superior | 3.696140 | 3.711319 | 3.851140 | 3.601315 |\n",
              "\n"
            ],
            "text/plain": [
              "            MAS      Proporcional Óptima   Neyman  \n",
              "Media       3.528044 3.538934     3.615437 3.452368\n",
              "L. inferior 3.359948 3.366550     3.379734 3.303421\n",
              "L. superior 3.696140 3.711319     3.851140 3.601315"
            ]
          },
          "metadata": {},
          "output_type": "display_data"
        }
      ],
      "source": [
        "media_text <- paste(\"La media para la población es de \",round(mediaPoblacion,4),\" personas por casa\")\n",
        "print(media_text)\n",
        "\n",
        "salida <- cbind(ICTamHog, ICProp, ICOpt, ICNeyman)\n",
        "colnames(salida) <- c(\"MAS\", \"Proporcional\", \"Óptima\", \"Neyman\")\n",
        "rownames(salida) <- c(\"Media\", \"L. inferior\", \"L. superior\")\n",
        "salida"
      ]
    },
    {
      "cell_type": "code",
      "execution_count": null,
      "metadata": {
        "vscode": {
          "languageId": "r"
        },
        "id": "8IkL9DNC4rW9"
      },
      "outputs": [],
      "source": [
        "ISize <- ICTamHog[3] - ICTamHog[2]\n",
        "ISizeProp<- ICProp[3] - ICProp[2]\n",
        "ISizeOpt <- ICOpt[3] - ICOpt[2]\n",
        "ISizeNeyman <- ICNeyman[3] - ICNeyman[2]"
      ]
    },
    {
      "cell_type": "markdown",
      "metadata": {
        "id": "M2szgZ3d4rW9"
      },
      "source": [
        "Generamos el histograma para muestra obtenida a partir del muestreo estratificado con afijación de Neyman (la que ofrece un intervalo de confianza más ajustado). Podemos ver que el valor real de la media muestral (línea vertical negra) se encuentra dentro del intervalo de confianza y que el valor estimado (línea verde discontinua) se encuentra bastante próximo al valor real."
      ]
    },
    {
      "cell_type": "code",
      "execution_count": null,
      "metadata": {
        "vscode": {
          "languageId": "r"
        },
        "id": "xEKN8J8N4rW-",
        "outputId": "ead8f35c-d44a-4704-b525-d74e02f3749b"
      },
      "outputs": [
        {
          "data": {
            "image/png": "[encoded data removed]",
            "text/plain": [
              "plot without title"
            ]
          },
          "metadata": {
            "image/png": {
              "height": 360,
              "width": 1080
            }
          },
          "output_type": "display_data"
        }
      ],
      "source": [
        "hist_muestreo(muestraNeyman, ICNeyman, mediaPoblacion, \"Histograma para el muestreo estratificado con afijación de Neyman\")"
      ]
    },
    {
      "cell_type": "code",
      "execution_count": null,
      "metadata": {
        "vscode": {
          "languageId": "r"
        },
        "id": "eHTLLrDV4rW-",
        "outputId": "ecd2f521-7142-484b-91f7-f0a55f56f748"
      },
      "outputs": [
        {
          "data": {
            "image/png": "[encoded data removed]",
            "text/plain": [
              "plot without title"
            ]
          },
          "metadata": {
            "image/png": {
              "height": 240,
              "width": 900
            }
          },
          "output_type": "display_data"
        }
      ],
      "source": [
        "values <- c(ISize, ISizeProp, ISizeOpt, ISizeNeyman)\n",
        "names <- c(\"MAS\", \"Est. Proporcional\", \"Est. Óptimo\", \"Est. Neyman\")\n",
        "options(repr.plot.width = 15, repr.plot.height = 4)\n",
        "ggplot(data.frame(values, names), aes(x = factor(names, levels = names), y = values)) +\n",
        "  geom_col(fill = \"steelblue\", color = \"black\") +\n",
        "  geom_text(aes(label = values), vjust = -0.5, size = 6, color = \"black\") +\n",
        "  labs(y = \"Tamaño IC\", x = \"Muestreo\", title = \"Tamaños para los intervalos de confianza\") +\n",
        "  theme(axis.text.x = element_text(size = 16), axis.text.y = element_text(size = 16)) +\n",
        "  ylim(0, 0.5)"
      ]
    },
    {
      "cell_type": "markdown",
      "metadata": {
        "id": "MHufVLG04rW-"
      },
      "source": [
        "Como se puede apreciar comparando el tamaño de los intervalos de confianza para los distintos tipos de muestreo, el mayor se corresponde con el del muestreo estratificado óptimo, mientras que el mejor (el más pequeño) sería el correspondiente a la estimación estratificada de Neyman.\n",
        "\n",
        "Claramente la afijación óptima da el peor resultado para los intervalos de confianza porque en su caso tiene que optimizar también los costes del muestreo, factor que no se tiene en cuenta en los demás muestreos estratificados.\n",
        "\n",
        "Parece raro que el IC sea mayor para el muestreo estratificado óptimo que para el muestreo aleatorio simple, pero esto es así porque no siempre siempre se reduce la varianza al pasar del muestreo aleatorio simple a uno estratificado. Recordemos que la estratificación introduce una varianza adicional a la varianza total de la estimación que no siempre se ve compensada con la reducción de la varianza que se obtiene en la estratificación. La efectividad del muestreo estratificado en comparación con el muestreo aleatorio simple depende de varios factores, incluidas las variabilidades dentro de y entre los estratos.\n",
        "\n",
        "El muestreo aleatorio simple puede ser más eficiente si la variabilidad en la población no está fuertemente estructurada por características específicas que justifiquen la estratificación, o si se elige una estratificación o una afijación no adecuada."
      ]
    }
  ],
  "metadata": {
    "colab": {
      "provenance": []
    },
    "kernelspec": {
      "display_name": "R",
      "language": "R",
      "name": "ir"
    },
    "language_info": {
      "codemirror_mode": "r",
      "file_extension": ".r",
      "mimetype": "text/x-r-source",
      "name": "R",
      "pygments_lexer": "r",
      "version": "4.3.1"
    }
  },
  "nbformat": 4,
  "nbformat_minor": 0
}